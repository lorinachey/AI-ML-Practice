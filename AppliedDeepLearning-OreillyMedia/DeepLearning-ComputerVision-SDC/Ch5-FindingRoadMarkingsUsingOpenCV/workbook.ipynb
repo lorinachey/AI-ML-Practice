{
 "cells": [
  {
   "cell_type": "markdown",
   "metadata": {},
   "source": [
    "## Finding Road Markings Using OpenCV\n",
    "Chapter 5 - Applied Deep Learning and Computer Vision for Self-Driving Cars\n",
    "\n",
    "This notebook has been adapted by me from the original source found [here.](https://github.com/PacktPublishing/Applied-Deep-Learning-and-Computer-Vision-for-Self-Driving-Cars/blob/master/Chapter05/Chapter%205%20Code%20Notebook.ipynb)"
   ]
  },
  {
   "cell_type": "code",
   "execution_count": 6,
   "metadata": {},
   "outputs": [],
   "source": [
    "import cv2\n",
    "import numpy as np\n",
    "\n",
    "import matplotlib.pyplot as plt"
   ]
  },
  {
   "cell_type": "code",
   "execution_count": 4,
   "metadata": {},
   "outputs": [],
   "source": [
    "image = cv2.imread('images/test_image.jpg')\n",
    "\n",
    "# Convert image to grayscale\n",
    "lanelines_image = np.copy(image)\n",
    "gray_conversion = cv2.cvtColor(lanelines_image, cv2.COLOR_RGB2GRAY)\n",
    "\n",
    "# Perform some smoothing\n",
    "blur_conversion = cv2.GaussianBlur(gray_conversion, (5,5),0)\n",
    "\n",
    "cv2.imshow('input_image', blur_conversion)\n",
    "cv2.waitKey(0)\n",
    "cv2.destroyAllWindows()"
   ]
  },
  {
   "cell_type": "code",
   "execution_count": 5,
   "metadata": {},
   "outputs": [],
   "source": [
    "# Apply Canny edge detection\n",
    "canny_conversion = cv2.Canny(blur_conversion, 50,155)\n",
    "\n",
    "cv2.imshow('input_image', canny_conversion)\n",
    "cv2.waitKey(0)\n",
    "cv2.destroyAllWindows()"
   ]
  },
  {
   "cell_type": "code",
   "execution_count": 11,
   "metadata": {},
   "outputs": [],
   "source": [
    "# Define some helper methods\n",
    "\n",
    "def canny_edge(image):\n",
    "    gray_conversion= cv2.cvtColor(image, cv2.COLOR_RGB2GRAY)\n",
    "    blur_conversion = cv2.GaussianBlur(gray_conversion, (5,5),0)\n",
    "    canny_conversion = cv2.Canny(blur_conversion, 50,150)\n",
    "    return canny_conversion\n",
    "\n",
    "\n",
    "# NOTE: this contains hard-coded regions of interest\n",
    "def reg_of_interest(image):\n",
    "    Image_height = image.shape[0]\n",
    "    polygons = np.array([[(200, Image_height), (1100, Image_height), (550, 250)]])\n",
    "    image_mask = np.zeros_like(image)\n",
    "    cv2.fillPoly(image_mask, polygons, 255)\n",
    "    masked_image = cv2.bitwise_and(image, image_mask)\n",
    "    return masked_image\n",
    "\n",
    "image = cv2.imread('images/test_image.jpg')\n",
    "lanelines_image = np.copy(image)\n",
    "canny_conversion = canny_edge(lanelines_image)\n",
    "\n",
    "masked_image = reg_of_interest(canny_conversion)\n",
    "\n",
    "cv2.imshow('result', masked_image)\n",
    "cv2.waitKey(0)\n",
    "cv2.destroyAllWindows()"
   ]
  },
  {
   "cell_type": "code",
   "execution_count": 12,
   "metadata": {},
   "outputs": [],
   "source": [
    "lane_lines = cv2.HoughLinesP(masked_image, 2, np.pi/180, 100, np.array([]), minLineLength= 40, maxLineGap=5)\n",
    "\n",
    "def show_lines(image, lines):\n",
    "    lines_image = np.zeros_like(image)\n",
    "    if lines is not None:\n",
    "        for line in lines:\n",
    "            X1, Y1, X2, Y2 = line.reshape(4)\n",
    "            cv2.line(lines_image, (X1, Y1), (X2, Y2), (255,0,0), 10)\n",
    "    return lines_image\n",
    "\n",
    "linelines_image = show_lines(lanelines_image, lane_lines)\n",
    "\n",
    "cv2.imshow('result', linelines_image)\n",
    "cv2.waitKey(0)\n",
    "cv2.destroyAllWindows()"
   ]
  },
  {
   "cell_type": "code",
   "execution_count": 14,
   "metadata": {},
   "outputs": [],
   "source": [
    "# Combining with actual image\n",
    "\n",
    "image = cv2.imread('images/test_image.jpg')\n",
    "lane_image = np.copy(image)\n",
    "\n",
    "lines = cv2.HoughLinesP(masked_image, 2, np.pi/180, 100, np.array([]), minLineLength= 40, maxLineGap=5)\n",
    "line_image = show_lines(lane_image, lines)\n",
    "combine_image = cv2.addWeighted(lane_image, 0.8, line_image, 1, 1)\n",
    "\n",
    "cv2.imshow('result', combine_image)\n",
    "cv2.waitKey(0)\n",
    "cv2.destroyAllWindows()"
   ]
  },
  {
   "cell_type": "code",
   "execution_count": null,
   "metadata": {},
   "outputs": [],
   "source": []
  }
 ],
 "metadata": {
  "kernelspec": {
   "display_name": "Python 3",
   "language": "python",
   "name": "python3"
  },
  "language_info": {
   "codemirror_mode": {
    "name": "ipython",
    "version": 3
   },
   "file_extension": ".py",
   "mimetype": "text/x-python",
   "name": "python",
   "nbconvert_exporter": "python",
   "pygments_lexer": "ipython3",
   "version": "3.8.10"
  }
 },
 "nbformat": 4,
 "nbformat_minor": 2
}
