{
 "cells": [
  {
   "cell_type": "markdown",
   "metadata": {},
   "source": [
    "### Build a NN from Scratch\n",
    "This notebook is based on the Coursera Course: Foundations and Core Concepts of PyTorch."
   ]
  },
  {
   "cell_type": "code",
   "execution_count": 1,
   "metadata": {},
   "outputs": [],
   "source": [
    "# Package and Module Imports\n",
    "import numpy as np\n",
    "import pandas as pd\n",
    "import seaborn as sns\n",
    "from sklearn.preprocessing import StandardScaler\n",
    "from sklearn.model_selection import train_test_split\n",
    "from sklearn.metrics import confusion_matrix"
   ]
  },
  {
   "cell_type": "code",
   "execution_count": 2,
   "metadata": {},
   "outputs": [
    {
     "name": "stdout",
     "output_type": "stream",
     "text": [
      "   age  sex  cp  trtbps  chol  fbs  restecg  thalachh  exng  oldpeak  slp  \\\n",
      "0   63    1   3     145   233    1        0       150     0      2.3    0   \n",
      "1   37    1   2     130   250    0        1       187     0      3.5    0   \n",
      "2   41    0   1     130   204    0        0       172     0      1.4    2   \n",
      "3   56    1   1     120   236    0        1       178     0      0.8    2   \n",
      "4   57    0   0     120   354    0        1       163     1      0.6    2   \n",
      "\n",
      "   caa  thall  output  \n",
      "0    0      1       1  \n",
      "1    0      2       1  \n",
      "2    0      2       1  \n",
      "3    0      2       1  \n",
      "4    0      2       1  \n",
      "Shape of X: (303, 13), Shape of y: (303,)\n"
     ]
    }
   ],
   "source": [
    "# DATA PREP\n",
    "\n",
    "# source: https://www.kaggle.com/datasets/rashikrahmanpritom/heart-attack-analysis-prediction-dataset\n",
    "df = pd.read_csv('heart.csv')\n",
    "\n",
    "# Explain the first five rows of the dataset\n",
    "print(df.head())\n",
    "\n",
    "# Separate independent / dependent features\n",
    "X = np.array(df.loc[ :, df.columns != 'output'])     # Select all rows and all columns except 'output'\n",
    "y = np.array(df['output'])                           # Select all rows and the 'output' column\n",
    "\n",
    "print(f\"Shape of X: {X.shape}, Shape of y: {y.shape}\")\n",
    "\n",
    "# Train / Test Split\n",
    "# test_train_split handles the shuffling of the data\n",
    "X_train, X_test, y_train, y_test = train_test_split(X, y, test_size=0.2, random_state=123)\n",
    "\n",
    "# Scale the data\n",
    "scaler = StandardScaler()   # Remove the mean and scale to unit variance\n",
    "X_train_scale = scaler.fit_transform(X_train)\n",
    "X_test_scale = scaler.transform(X_test)\n"
   ]
  },
  {
   "cell_type": "code",
   "execution_count": 6,
   "metadata": {},
   "outputs": [],
   "source": [
    "class NeuralNetwork:\n",
    "    def __init__(self, learning_rate, X_train, y_train, X_test, y_test):\n",
    "        self.learning_rate = learning_rate\n",
    "\n",
    "        # Initialize random weights with one weight per feature\n",
    "        self.w = np.random.randn(X_train.shape[1])\n",
    "\n",
    "        self.b = np.random.randn()\n",
    "        \n",
    "        self.X_train = X_train\n",
    "        self.y_train = y_train\n",
    "        self.X_test = X_test\n",
    "        self.y_test = y_test\n",
    "\n",
    "        self.L_train = []\n",
    "        self.L_test = []\n",
    "\n",
    "    def activation(self, x):\n",
    "        # Sigmoid function\n",
    "        return 1 / (1 + np.exp(-x))\n",
    "\n",
    "    def deactivation(self, x):\n",
    "        # Take the derivative of Sigmoid\n",
    "        return self.activation(x) * (1 - self.activation(x))\n",
    "    \n",
    "    def forward(self, X):\n",
    "        # Calculate the result layer by layer\n",
    "        hidden_1 = np.dot(X, self.w) + self.b\n",
    "        activate_1 = self.activation(hidden_1)\n",
    "        return activate_1\n",
    "\n",
    "    def backward(self, X, y_true):\n",
    "        # Calculate gradients (we're using squared error loss)\n",
    "        hidden_1 = np.dot(X, self.w) + self.b\n",
    "        y_pred = self.forward(X)\n",
    "        \n",
    "        dL_dpred = 2 * (y_pred - y_true)\n",
    "        dpred_dhidden1 = self.deactivation(hidden_1)\n",
    "        dhidden1_db = 1\n",
    "        dhidden1_dw = X\n",
    "\n",
    "        # Chain rule\n",
    "        dL_db = dL_dpred * dpred_dhidden1 * dhidden1_db\n",
    "        dL_dw = dL_dpred * dpred_dhidden1 * dhidden1_dw\n",
    "        return dL_db, dL_dw\n",
    "\n",
    "    def optimizer(self, dL_db, dL_dw):\n",
    "        self.b = self.b - dL_db * self.learning_rate\n",
    "        self.w = self.w - dL_dw * self.learning_rate\n",
    "\n",
    "    def train(self, ITERATIONS):\n",
    "        EPOCHS = len(self.X_test)\n",
    "    \n",
    "        for i in range(ITERATIONS):\n",
    "            # Get a random value between 0 and length of the training data\n",
    "            random_pos = np.random.randint(len(self.X_train))\n",
    "\n",
    "            # Implement the forward pass\n",
    "            y_train_true = self.X_train[random_pos]\n",
    "            y_train_pred = self.forward(self.X_train[random_pos])\n",
    "\n",
    "            # Calculate the training losses\n",
    "            L = np.sum(np.square(y_train_pred - y_train_true))\n",
    "            self.L_train.append(L)\n",
    "\n",
    "            # Calculate the gradients using the backward method\n",
    "            dL_db, dL_dw = self.backward(self.X_train[random_pos], self.y_train[random_pos])\n",
    "\n",
    "            # Update the weights\n",
    "            self.optimizer(dL_db, dL_dw)\n",
    "\n",
    "            # Calculate the error at the end of every epoch\n",
    "            L_sum = 0\n",
    "            for j in range(EPOCHS):\n",
    "                y_true = self.y_test[j]\n",
    "                y_pred = self.forward(self.X_test[j])\n",
    "                L_sum += np.square(y_pred - y_true)\n",
    "            self.L_test.append(L_sum)\n",
    "\n",
    "        return \"Training completed.\"\n"
   ]
  },
  {
   "cell_type": "code",
   "execution_count": 31,
   "metadata": {},
   "outputs": [
    {
     "data": {
      "text/plain": [
       "'Training completed.'"
      ]
     },
     "execution_count": 31,
     "metadata": {},
     "output_type": "execute_result"
    }
   ],
   "source": [
    "# Train The Model\n",
    "\n",
    "learning_rate = 0.1\n",
    "ITERATIONS = 1000\n",
    "\n",
    "nn = NeuralNetwork(learning_rate=learning_rate, X_train=X_train_scale, y_train=y_train, X_test=X_test_scale, y_test=y_test)\n",
    "nn.train(ITERATIONS=ITERATIONS)"
   ]
  },
  {
   "cell_type": "code",
   "execution_count": 32,
   "metadata": {},
   "outputs": [
    {
     "data": {
      "text/plain": [
       "<Axes: >"
      ]
     },
     "execution_count": 32,
     "metadata": {},
     "output_type": "execute_result"
    },
    {
     "data": {
      "image/png": "[encoded data removed]",
      "text/plain": [
       "<Figure size 640x480 with 1 Axes>"
      ]
     },
     "metadata": {},
     "output_type": "display_data"
    }
   ],
   "source": [
    "# Check the losses\n",
    "\n",
    "sns.lineplot(x=list(range(len(nn.L_test))), y=nn.L_test)"
   ]
  },
  {
   "cell_type": "code",
   "execution_count": 33,
   "metadata": {},
   "outputs": [
    {
     "name": "stdout",
     "output_type": "stream",
     "text": [
      "Accuracy: 0.7704918032786885\n"
     ]
    },
    {
     "data": {
      "text/plain": [
       "array([[23,  7],\n",
       "       [ 7, 24]])"
      ]
     },
     "execution_count": 33,
     "metadata": {},
     "output_type": "execute_result"
    }
   ],
   "source": [
    "from collections import Counter\n",
    "\n",
    "total = X_test_scale.shape[0]\n",
    "correct = 0\n",
    "y_preds = []\n",
    "\n",
    "for i in range(total):\n",
    "    y_true = y_test[i]\n",
    "    y_pred = np.round(nn.forward(X_test_scale[i]))\n",
    "    y_preds.append(y_pred)\n",
    "    correct += 1 if y_true == y_pred else 0\n",
    "\n",
    "accuracy = correct / total\n",
    "print(\"Accuracy: {}\".format(accuracy))\n",
    "\n",
    "Counter(y_test)\n",
    "\n",
    "# Imported method from scikit\n",
    "# Rows are the actual labels. Cols are the predicted labels.\n",
    "# Diagonal values are the correct predictions\n",
    "# Off diagonal counts in rows: where the true class is being misrouted\n",
    "# Off diagonal counts in cols: which true classes are mistakenly flowing into the predicted class (i.e. false positives)\n",
    "confusion_matrix(y_true = y_test, y_pred = y_preds)"
   ]
  },
  {
   "cell_type": "code",
   "execution_count": null,
   "metadata": {},
   "outputs": [],
   "source": []
  }
 ],
 "metadata": {
  "kernelspec": {
   "display_name": "multipurpose",
   "language": "python",
   "name": "python3"
  },
  "language_info": {
   "codemirror_mode": {
    "name": "ipython",
    "version": 3
   },
   "file_extension": ".py",
   "mimetype": "text/x-python",
   "name": "python",
   "nbconvert_exporter": "python",
   "pygments_lexer": "ipython3",
   "version": "3.11.8"
  }
 },
 "nbformat": 4,
 "nbformat_minor": 2
}
