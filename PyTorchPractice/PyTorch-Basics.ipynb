{
 "cells": [
  {
   "cell_type": "code",
   "execution_count": 45,
   "metadata": {},
   "outputs": [],
   "source": [
    "\"\"\"\n",
    "This Notebook has been modified and adapted from the original version provided as part of\n",
    "Helen Sun's \"Hands-On PyTorch Machine Learning\" course published on LinkedIn Learning.\n",
    "\n",
    "I prefer to recreate the exercise files myself rather than working directly with them because\n",
    "it improves my learning comprehension.\n",
    "\"\"\"\n",
    "import numpy as np\n",
    "import matplotlib.pyplot as plt\n",
    "import ssl\n",
    "import torch\n",
    "import torchvision\n",
    "\n",
    "from torch.autograd import Variable\n",
    "from torch import nn, optim"
   ]
  },
  {
   "cell_type": "code",
   "execution_count": 2,
   "metadata": {},
   "outputs": [
    {
     "name": "stdout",
     "output_type": "stream",
     "text": [
      "tensor(100)\n",
      "tensor([1, 2, 3])\n",
      "tensor([[1, 2, 3],\n",
      "        [7, 5, 3]])\n"
     ]
    }
   ],
   "source": [
    "# Create some tensors\n",
    "t0 = torch.tensor(100)                      # 0-D tensor\n",
    "t1 = torch.tensor([1, 2, 3])                # 1-D tensor\n",
    "t2 = torch.tensor([[1, 2, 3], [7, 5, 3]])   # 2-D tensor\n",
    "\n",
    "print(t0)\n",
    "print(t1)\n",
    "print(t2)"
   ]
  },
  {
   "cell_type": "code",
   "execution_count": 9,
   "metadata": {},
   "outputs": [
    {
     "name": "stdout",
     "output_type": "stream",
     "text": [
      "tensor([[1, 1, 1, 1, 1],\n",
      "        [1, 1, 1, 1, 1],\n",
      "        [1, 1, 1, 1, 1],\n",
      "        [1, 1, 1, 1, 1]], dtype=torch.int16)\n",
      "torch.Size([4, 5])\n",
      "2\n",
      "2\n"
     ]
    }
   ],
   "source": [
    "\"\"\" \n",
    "Set Datatype and view size and dimensions\n",
    "Tensor Data Types\n",
    "    torch.bool\n",
    "    torch.int8\n",
    "    torch.uint8\n",
    "    torch.int16\n",
    "    torch.int32\n",
    "    torch.int64\n",
    "    torch.half\n",
    "    torch.float\n",
    "    torch.double\n",
    "    torch.bfloat\n",
    "\"\"\"\n",
    "\n",
    "# Set a datatype for the tensor\n",
    "example = torch.ones((4, 5), dtype=torch.int16)\n",
    "print(example)\n",
    "\n",
    "# Print the size (can also use shape like numpy)\n",
    "print(example.size())\n",
    "\n",
    "# Print the dimensions\n",
    "print(example.ndimension())\n",
    "print(example.ndim)"
   ]
  },
  {
   "cell_type": "markdown",
   "metadata": {},
   "source": [
    "***\n",
    "***\n",
    "#### Basic Operations"
   ]
  },
  {
   "cell_type": "code",
   "execution_count": 10,
   "metadata": {},
   "outputs": [
    {
     "name": "stdout",
     "output_type": "stream",
     "text": [
      "tensor([1., 2.])\n",
      "tensor([3., 4.])\n"
     ]
    }
   ],
   "source": [
    "# Create 2 tensors\n",
    "u = torch.tensor([1.0, 2.0])\n",
    "v = torch.tensor([3.0, 4.0])\n",
    "\n",
    "print(u)\n",
    "print(v)"
   ]
  },
  {
   "cell_type": "code",
   "execution_count": 16,
   "metadata": {},
   "outputs": [
    {
     "name": "stdout",
     "output_type": "stream",
     "text": [
      "Common functions:\n",
      "\n",
      "- abs:\n",
      " tensor([[0.6698, 0.8233, 0.2141, 0.2698],\n",
      "        [0.0750, 0.5502, 0.7701, 0.6372]])\n",
      "- ceil:\n",
      " tensor([[1., -0., 1., -0.],\n",
      "        [-0., -0., 1., -0.]])\n",
      "- floor:\n",
      " tensor([[ 0., -1.,  0., -1.],\n",
      "        [-1., -1.,  0., -1.]])\n",
      "- clamp:\n",
      " tensor([[ 0.5000, -0.5000,  0.2141, -0.2698],\n",
      "        [-0.0750, -0.5000,  0.5000, -0.5000]])\n",
      "- mean:\n",
      " tensor(-0.0877)\n",
      "- min:\n",
      " tensor(-0.8233)\n",
      "- max:\n",
      " tensor(0.7701)\n"
     ]
    }
   ],
   "source": [
    "# Try some common tensor functions\n",
    "a = torch.rand(2, 4) * 2 - 1\n",
    "\n",
    "print('Common functions:\\n')\n",
    "print('- abs:\\n', torch.abs(a))\n",
    "print('- ceil:\\n', torch.ceil(a))\n",
    "print('- floor:\\n', torch.floor(a))\n",
    "print('- clamp:\\n', torch.clamp(a, -0.5, 0.5))\n",
    "print('- mean:\\n', a.mean())\n",
    "print('- min:\\n', a.min())\n",
    "print('- max:\\n', a.max())\n"
   ]
  },
  {
   "cell_type": "code",
   "execution_count": 21,
   "metadata": {},
   "outputs": [
    {
     "name": "stdout",
     "output_type": "stream",
     "text": [
      "Trigonometric functions:\n",
      "\n",
      "tensor([0.0000, 1.5708, 3.1416])\n",
      "tensor([ 0.0000e+00,  1.0000e+00, -8.7423e-08])\n",
      "tensor([ 1.0000e+00, -4.3711e-08, -1.0000e+00])\n",
      "tensor([-1.5708, -1.5677, -1.5645, -1.5614, -1.5582])\n",
      "tensor([1.5582, 1.5614, 1.5645, 1.5677, 1.5708])\n",
      "tensor([-1.0000, -1.0000, -1.0000, -1.0000, -0.9999])\n",
      "tensor([-4.3711e-08,  3.1447e-03,  6.2894e-03,  9.4340e-03,  1.2579e-02])\n"
     ]
    }
   ],
   "source": [
    "# Trigonometric functions and their inverses\n",
    "\n",
    "print('Trigonometric functions:\\n')\n",
    "\n",
    "x = torch.tensor([0, np.pi / 2, np.pi])\n",
    "print(x)\n",
    "print(torch.sin(x))\n",
    "print(torch.cos(x))\n",
    "\n",
    "# get an evenly spaced list of numbers between a range\n",
    "pi = torch.linspace(-np.pi/2, np.pi/2, steps=1000)\n",
    "print(pi[:5])  # lower bound\n",
    "print(pi[-5:]) # upper bound\n",
    "\n",
    "sined = torch.sin(pi)\n",
    "cosed = torch.cos(pi)\n",
    "print(sined[0:5])\n",
    "print(cosed[0:5])"
   ]
  },
  {
   "cell_type": "code",
   "execution_count": 22,
   "metadata": {},
   "outputs": [
    {
     "data": {
      "image/png": "[encoded data removed]",
      "text/plain": [
       "<Figure size 640x480 with 1 Axes>"
      ]
     },
     "metadata": {},
     "output_type": "display_data"
    }
   ],
   "source": [
    "# Visualize using Matplotlib\n",
    "plt.plot(sined, label=\"sined\")\n",
    "plt.plot(cosed, label=\"cosed\")\n",
    "plt.legend()\n",
    "plt.show()"
   ]
  },
  {
   "cell_type": "markdown",
   "metadata": {},
   "source": [
    "***\n",
    "***\n",
    "#### PyTorch-Numpy Bridge"
   ]
  },
  {
   "cell_type": "code",
   "execution_count": 23,
   "metadata": {},
   "outputs": [
    {
     "name": "stdout",
     "output_type": "stream",
     "text": [
      "[[1. 1. 1.]\n",
      " [1. 1. 1.]]\n",
      "tensor([[1., 1., 1.],\n",
      "        [1., 1., 1.]], dtype=torch.float64)\n"
     ]
    }
   ],
   "source": [
    "numpy_array = np.ones((2,3))\n",
    "print(numpy_array)\n",
    "\n",
    "pytorch_tensor = torch.from_numpy(numpy_array)\n",
    "print(pytorch_tensor)"
   ]
  },
  {
   "cell_type": "code",
   "execution_count": 24,
   "metadata": {},
   "outputs": [
    {
     "name": "stdout",
     "output_type": "stream",
     "text": [
      "tensor([[0.0456, 0.9983, 0.1377],\n",
      "        [0.5917, 0.0244, 0.5909]])\n",
      "[[0.04561031 0.9982668  0.13766444]\n",
      " [0.5917119  0.02438641 0.5908968 ]]\n"
     ]
    }
   ],
   "source": [
    "pytorch_rand = torch.rand(2, 3)\n",
    "print(pytorch_rand)\n",
    "\n",
    "numpy_rand = pytorch_rand.numpy()\n",
    "print(numpy_rand)"
   ]
  },
  {
   "cell_type": "code",
   "execution_count": 27,
   "metadata": {},
   "outputs": [
    {
     "name": "stdout",
     "output_type": "stream",
     "text": [
      "tensor([[ 1.,  1.,  1.],\n",
      "        [ 1., 23.,  1.]], dtype=torch.float64)\n",
      "[[ 0.04561031  0.9982668   0.13766444]\n",
      " [ 0.5917119  17.          0.5908968 ]]\n"
     ]
    }
   ],
   "source": [
    "# Converted objects are using the same underlying memory as their source objects meaning\n",
    "# changes to one will be reflected in the other.\n",
    "numpy_array[1, 1] = 23\n",
    "print(pytorch_tensor)\n",
    "\n",
    "pytorch_rand[1, 1] = 17\n",
    "print(numpy_rand)"
   ]
  },
  {
   "cell_type": "markdown",
   "metadata": {},
   "source": [
    "***\n",
    "***\n",
    "#### Autograd"
   ]
  },
  {
   "cell_type": "code",
   "execution_count": 30,
   "metadata": {},
   "outputs": [
    {
     "name": "stdout",
     "output_type": "stream",
     "text": [
      "tensor([[1., 1.],\n",
      "        [1., 1.]], requires_grad=True)\n"
     ]
    }
   ],
   "source": [
    "x = Variable(torch.ones(2,2), requires_grad=True)\n",
    "print(x)"
   ]
  },
  {
   "cell_type": "code",
   "execution_count": 31,
   "metadata": {},
   "outputs": [
    {
     "name": "stdout",
     "output_type": "stream",
     "text": [
      "tensor([[3., 3.],\n",
      "        [3., 3.]], grad_fn=<AddBackward0>)\n"
     ]
    }
   ],
   "source": [
    "y = x + 2\n",
    "print(y)"
   ]
  },
  {
   "cell_type": "code",
   "execution_count": 33,
   "metadata": {},
   "outputs": [
    {
     "name": "stdout",
     "output_type": "stream",
     "text": [
      "tensor([[27., 27.],\n",
      "        [27., 27.]], grad_fn=<MulBackward0>) \n",
      " tensor(27., grad_fn=<MeanBackward0>)\n"
     ]
    }
   ],
   "source": [
    "z = y * y * 3\n",
    "out = z.mean()\n",
    "print(z, \"\\n\", out)"
   ]
  },
  {
   "cell_type": "code",
   "execution_count": null,
   "metadata": {},
   "outputs": [],
   "source": [
    "# Perform backpropagation\n",
    "out.backward()"
   ]
  },
  {
   "cell_type": "code",
   "execution_count": 38,
   "metadata": {},
   "outputs": [
    {
     "name": "stdout",
     "output_type": "stream",
     "text": [
      "tensor([[4.5000, 4.5000],\n",
      "        [4.5000, 4.5000]])\n"
     ]
    }
   ],
   "source": [
    "print(x.grad)"
   ]
  },
  {
   "cell_type": "code",
   "execution_count": 39,
   "metadata": {},
   "outputs": [
    {
     "name": "stdout",
     "output_type": "stream",
     "text": [
      "tensor([ 0.1908, -1.6765,  0.8555], requires_grad=True)\n"
     ]
    }
   ],
   "source": [
    "# Another Autograd example\n",
    "x = torch.randn(3)\n",
    "x = Variable(x, requires_grad=True)\n",
    "print(x)"
   ]
  },
  {
   "cell_type": "code",
   "execution_count": 40,
   "metadata": {},
   "outputs": [
    {
     "name": "stdout",
     "output_type": "stream",
     "text": [
      "tensor([  195.3675, -1716.7858,   876.0624], grad_fn=<MulBackward0>)\n"
     ]
    }
   ],
   "source": [
    "# Create a new variable y that will have a gradient function attached to it\n",
    "y = x * 2\n",
    "while y.data.norm() < 1000:\n",
    "    y = y * 2\n",
    "print(y)"
   ]
  },
  {
   "cell_type": "code",
   "execution_count": 41,
   "metadata": {},
   "outputs": [],
   "source": [
    "# Define custom gradients for a non-scalar output 'y'\n",
    "# and perform a backward pass to compute gradients with respect to model parameters\n",
    "gradients = torch.FloatTensor([0.1, 1.0, 0.0001])\n",
    "y.backward(gradients)"
   ]
  },
  {
   "cell_type": "code",
   "execution_count": 42,
   "metadata": {},
   "outputs": [
    {
     "name": "stdout",
     "output_type": "stream",
     "text": [
      "tensor([1.0240e+02, 1.0240e+03, 1.0240e-01])\n"
     ]
    }
   ],
   "source": [
    "print(x.grad)"
   ]
  },
  {
   "cell_type": "code",
   "execution_count": 47,
   "metadata": {},
   "outputs": [],
   "source": [
    "# Disable SSL certificate verification for HTTPS requests\n",
    "# (typically used to avoid SSL certificate issues in environments with restricted internet access or self-signed certificates)\n",
    "ssl._create_default_https_context = ssl._create_unverified_context\n",
    "\n",
    "# Load a pre-trained ResNet-18 model from torchvision's model repository, including the weights trained on ImageNet\n",
    "model = torchvision.models.resnet18(pretrained=True)"
   ]
  },
  {
   "cell_type": "code",
   "execution_count": 48,
   "metadata": {},
   "outputs": [],
   "source": [
    "# Freeze all the parameters in the network\n",
    "for param in model.parameters():\n",
    "    param.requires_grad = False"
   ]
  },
  {
   "cell_type": "code",
   "execution_count": 53,
   "metadata": {},
   "outputs": [],
   "source": [
    "# Replace the fully connected layer of the model with a new linear layer, changing its output features from 512 to 10 for adapting the model to a new task with 10 classes\n",
    "# https://pytorch.org/docs/stable/generated/torch.nn.Linear.html\n",
    "\n",
    "# All other parameters of the model are frozen so the only paramters that compute gradients are the weights and bias of model.fc\n",
    "model.fc = nn.Linear(512, 10)\n"
   ]
  },
  {
   "cell_type": "code",
   "execution_count": 50,
   "metadata": {},
   "outputs": [],
   "source": [
    "# Optimize only the classifier\n",
    "optimizer = optim.SGD(model.parameters(), lr=1e-2, momentum=0.9)"
   ]
  },
  {
   "cell_type": "code",
   "execution_count": 51,
   "metadata": {},
   "outputs": [
    {
     "name": "stdout",
     "output_type": "stream",
     "text": [
      "SGD (\n",
      "Parameter Group 0\n",
      "    dampening: 0\n",
      "    differentiable: False\n",
      "    foreach: None\n",
      "    lr: 0.01\n",
      "    maximize: False\n",
      "    momentum: 0.9\n",
      "    nesterov: False\n",
      "    weight_decay: 0\n",
      ")\n"
     ]
    }
   ],
   "source": [
    "print(optimizer)"
   ]
  },
  {
   "cell_type": "code",
   "execution_count": null,
   "metadata": {},
   "outputs": [],
   "source": []
  }
 ],
 "metadata": {
  "kernelspec": {
   "display_name": "base",
   "language": "python",
   "name": "python3"
  },
  "language_info": {
   "codemirror_mode": {
    "name": "ipython",
    "version": 3
   },
   "file_extension": ".py",
   "mimetype": "text/x-python",
   "name": "python",
   "nbconvert_exporter": "python",
   "pygments_lexer": "ipython3",
   "version": "3.11.5"
  }
 },
 "nbformat": 4,
 "nbformat_minor": 2
}
