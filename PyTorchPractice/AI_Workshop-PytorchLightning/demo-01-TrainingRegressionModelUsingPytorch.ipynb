{
 "cells": [
  {
   "cell_type": "markdown",
   "id": "46dd3b38-ae72-4f1f-914b-014c637eb26f",
   "metadata": {
    "id": "46dd3b38-ae72-4f1f-914b-014c637eb26f"
   },
   "source": [
    "First of all we will create virtual environment and install the kernel and the required packages. Here the name of environment is pytorch_venv\n",
    "\n",
    "## TODO Recording\n",
    "\n",
    "- In a terminal window under a projects/ folder\n",
    "- Make sure the projects/ directory is empty\n",
    "\n",
    "`python --version`\n",
    "\n",
    "`python -m venv pytorch_venv`\n",
    "\n",
    "`ls -l`\n",
    "\n",
    "`source pytorch_venv/bin/activate`\n",
    "\n",
    "`python --version`\n",
    "\n",
    "`pip install ipykernel`\n",
    "\n",
    "`jupyter kernelspec list`\n",
    "\n",
    "`python -m ipykernel install --user --name=pytorch_venv`\n",
    "\n",
    "`jupyter kernelspec list`\n",
    "\n",
    "`jupyter notebook`\n",
    "\n",
    "- Make sure you use the pytorch_venv and create a new notebook"
   ]
  },
  {
   "cell_type": "markdown",
   "id": "af5e8574",
   "metadata": {
    "id": "af5e8574"
   },
   "source": [
    "https://github.com/mwaskom/seaborn/issues/3462"
   ]
  },
  {
   "cell_type": "code",
   "execution_count": 1,
   "id": "eedc939f",
   "metadata": {
    "id": "eedc939f"
   },
   "outputs": [],
   "source": [
    "import warnings\n",
    "\n",
    "warnings.filterwarnings(\"ignore\", \"is_categorical_dtype\")\n",
    "warnings.filterwarnings(\"ignore\", \"use_inf_as_na\")"
   ]
  },
  {
   "cell_type": "code",
   "execution_count": null,
   "id": "d60da3be",
   "metadata": {
    "id": "d60da3be",
    "outputId": "d92331d2-2f4e-45af-a4f0-d59602150013"
   },
   "outputs": [
    {
     "name": "stdout",
     "output_type": "stream",
     "text": [
      "Requirement already satisfied: scikit-learn in /Users/loonycorn/Desktop/iMovieLibrary/LinkedInLearning/AIWorkshopPyTorchLightning/pytorch_venv/lib/python3.10/site-packages (1.3.0)\n",
      "Requirement already satisfied: joblib>=1.1.1 in /Users/loonycorn/Desktop/iMovieLibrary/LinkedInLearning/AIWorkshopPyTorchLightning/pytorch_venv/lib/python3.10/site-packages (from scikit-learn) (1.3.2)\n",
      "Requirement already satisfied: scipy>=1.5.0 in /Users/loonycorn/Desktop/iMovieLibrary/LinkedInLearning/AIWorkshopPyTorchLightning/pytorch_venv/lib/python3.10/site-packages (from scikit-learn) (1.11.2)\n",
      "Requirement already satisfied: threadpoolctl>=2.0.0 in /Users/loonycorn/Desktop/iMovieLibrary/LinkedInLearning/AIWorkshopPyTorchLightning/pytorch_venv/lib/python3.10/site-packages (from scikit-learn) (3.2.0)\n",
      "Requirement already satisfied: numpy>=1.17.3 in /Users/loonycorn/Desktop/iMovieLibrary/LinkedInLearning/AIWorkshopPyTorchLightning/pytorch_venv/lib/python3.10/site-packages (from scikit-learn) (1.26.0)\n",
      "\n",
      "\u001b[1m[\u001b[0m\u001b[34;49mnotice\u001b[0m\u001b[1;39;49m]\u001b[0m\u001b[39;49m A new release of pip available: \u001b[0m\u001b[31;49m22.3.1\u001b[0m\u001b[39;49m -> \u001b[0m\u001b[32;49m23.2.1\u001b[0m\n",
      "\u001b[1m[\u001b[0m\u001b[34;49mnotice\u001b[0m\u001b[1;39;49m]\u001b[0m\u001b[39;49m To update, run: \u001b[0m\u001b[32;49mpip install --upgrade pip\u001b[0m\n"
     ]
    }
   ],
   "source": [
    "!pip install scikit-learn"
   ]
  },
  {
   "cell_type": "code",
   "execution_count": null,
   "id": "6171c7ce-aefb-4471-9057-132608fab0f3",
   "metadata": {
    "id": "6171c7ce-aefb-4471-9057-132608fab0f3",
    "outputId": "509992e6-638d-403d-dcf3-b929e383d05b"
   },
   "outputs": [
    {
     "name": "stdout",
     "output_type": "stream",
     "text": [
      "Requirement already satisfied: torch in /Users/loonycorn/Desktop/iMovieLibrary/LinkedInLearning/AIWorkshopPyTorchLightning/pytorch_venv/lib/python3.10/site-packages (2.0.1)\n",
      "Requirement already satisfied: sympy in /Users/loonycorn/Desktop/iMovieLibrary/LinkedInLearning/AIWorkshopPyTorchLightning/pytorch_venv/lib/python3.10/site-packages (from torch) (1.12)\n",
      "Requirement already satisfied: jinja2 in /Users/loonycorn/Desktop/iMovieLibrary/LinkedInLearning/AIWorkshopPyTorchLightning/pytorch_venv/lib/python3.10/site-packages (from torch) (3.1.2)\n",
      "Requirement already satisfied: filelock in /Users/loonycorn/Desktop/iMovieLibrary/LinkedInLearning/AIWorkshopPyTorchLightning/pytorch_venv/lib/python3.10/site-packages (from torch) (3.12.4)\n",
      "Requirement already satisfied: typing-extensions in /Users/loonycorn/Desktop/iMovieLibrary/LinkedInLearning/AIWorkshopPyTorchLightning/pytorch_venv/lib/python3.10/site-packages (from torch) (4.8.0)\n",
      "Requirement already satisfied: networkx in /Users/loonycorn/Desktop/iMovieLibrary/LinkedInLearning/AIWorkshopPyTorchLightning/pytorch_venv/lib/python3.10/site-packages (from torch) (3.1)\n",
      "Requirement already satisfied: MarkupSafe>=2.0 in /Users/loonycorn/Desktop/iMovieLibrary/LinkedInLearning/AIWorkshopPyTorchLightning/pytorch_venv/lib/python3.10/site-packages (from jinja2->torch) (2.1.3)\n",
      "Requirement already satisfied: mpmath>=0.19 in /Users/loonycorn/Desktop/iMovieLibrary/LinkedInLearning/AIWorkshopPyTorchLightning/pytorch_venv/lib/python3.10/site-packages (from sympy->torch) (1.3.0)\n",
      "\n",
      "\u001b[1m[\u001b[0m\u001b[34;49mnotice\u001b[0m\u001b[1;39;49m]\u001b[0m\u001b[39;49m A new release of pip available: \u001b[0m\u001b[31;49m22.3.1\u001b[0m\u001b[39;49m -> \u001b[0m\u001b[32;49m23.2.1\u001b[0m\n",
      "\u001b[1m[\u001b[0m\u001b[34;49mnotice\u001b[0m\u001b[1;39;49m]\u001b[0m\u001b[39;49m To update, run: \u001b[0m\u001b[32;49mpip install --upgrade pip\u001b[0m\n"
     ]
    }
   ],
   "source": [
    "!pip install torch"
   ]
  },
  {
   "cell_type": "code",
   "execution_count": null,
   "id": "cbc8580f",
   "metadata": {
    "colab": {
     "base_uri": "https://localhost:8080/"
    },
    "id": "cbc8580f",
    "outputId": "2717d993-4755-4fa3-e7a6-0b13d7f2fa57"
   },
   "outputs": [
    {
     "name": "stdout",
     "output_type": "stream",
     "text": [
      "Collecting torchmetrics\n",
      "  Downloading torchmetrics-1.1.2-py3-none-any.whl (764 kB)\n",
      "\u001b[?25l     \u001b[90m━━━━━━━━━━━━━━━━━━━━━━━━━━━━━━━━━━━━━━━━\u001b[0m \u001b[32m0.0/764.8 kB\u001b[0m \u001b[31m?\u001b[0m eta \u001b[36m-:--:--\u001b[0m\r\n",
      "\u001b[2K     \u001b[91m━━━━━━━━━\u001b[0m\u001b[91m╸\u001b[0m\u001b[90m━━━━━━━━━━━━━━━━━━━━━━━━━━━━━\u001b[0m \u001b[32m194.6/764.8 kB\u001b[0m \u001b[31m5.7 MB/s\u001b[0m eta \u001b[36m0:00:01\u001b[0m\r\n",
      "\u001b[2K     \u001b[91m━━━━━━━━━━━━━━━━━━━━━━━━━━━━━━━━━━━\u001b[0m\u001b[90m╺\u001b[0m\u001b[90m━━\u001b[0m \u001b[32m706.6/764.8 kB\u001b[0m \u001b[31m10.4 MB/s\u001b[0m eta \u001b[36m0:00:01\u001b[0m\r\n",
      "\u001b[2K     \u001b[90m━━━━━━━━━━━━━━━━━━━━━━━━━━━━━━━━━━━━━━━\u001b[0m \u001b[32m764.8/764.8 kB\u001b[0m \u001b[31m8.9 MB/s\u001b[0m eta \u001b[36m0:00:00\u001b[0m\n",
      "\u001b[?25hRequirement already satisfied: numpy>1.20.0 in /usr/local/lib/python3.10/dist-packages (from torchmetrics) (1.23.5)\n",
      "Requirement already satisfied: torch>=1.8.1 in /usr/local/lib/python3.10/dist-packages (from torchmetrics) (2.0.1+cu118)\n",
      "Collecting lightning-utilities>=0.8.0 (from torchmetrics)\n",
      "  Downloading lightning_utilities-0.9.0-py3-none-any.whl (23 kB)\n",
      "Requirement already satisfied: packaging>=17.1 in /usr/local/lib/python3.10/dist-packages (from lightning-utilities>=0.8.0->torchmetrics) (23.1)\n",
      "Requirement already satisfied: typing-extensions in /usr/local/lib/python3.10/dist-packages (from lightning-utilities>=0.8.0->torchmetrics) (4.5.0)\n",
      "Requirement already satisfied: filelock in /usr/local/lib/python3.10/dist-packages (from torch>=1.8.1->torchmetrics) (3.12.2)\n",
      "Requirement already satisfied: sympy in /usr/local/lib/python3.10/dist-packages (from torch>=1.8.1->torchmetrics) (1.12)\n",
      "Requirement already satisfied: networkx in /usr/local/lib/python3.10/dist-packages (from torch>=1.8.1->torchmetrics) (3.1)\n",
      "Requirement already satisfied: jinja2 in /usr/local/lib/python3.10/dist-packages (from torch>=1.8.1->torchmetrics) (3.1.2)\n",
      "Requirement already satisfied: triton==2.0.0 in /usr/local/lib/python3.10/dist-packages (from torch>=1.8.1->torchmetrics) (2.0.0)\n",
      "Requirement already satisfied: cmake in /usr/local/lib/python3.10/dist-packages (from triton==2.0.0->torch>=1.8.1->torchmetrics) (3.27.4.1)\n",
      "Requirement already satisfied: lit in /usr/local/lib/python3.10/dist-packages (from triton==2.0.0->torch>=1.8.1->torchmetrics) (16.0.6)\n",
      "Requirement already satisfied: MarkupSafe>=2.0 in /usr/local/lib/python3.10/dist-packages (from jinja2->torch>=1.8.1->torchmetrics) (2.1.3)\n",
      "Requirement already satisfied: mpmath>=0.19 in /usr/local/lib/python3.10/dist-packages (from sympy->torch>=1.8.1->torchmetrics) (1.3.0)\n",
      "Installing collected packages: lightning-utilities, torchmetrics\n",
      "Successfully installed lightning-utilities-0.9.0 torchmetrics-1.1.2\n"
     ]
    }
   ],
   "source": [
    "!pip install torchmetrics"
   ]
  },
  {
   "cell_type": "code",
   "execution_count": 1,
   "id": "948e38ed",
   "metadata": {
    "colab": {
     "base_uri": "https://localhost:8080/",
     "height": 35
    },
    "id": "948e38ed",
    "outputId": "7b60bc1f-f57e-4b4d-e0cb-4628dffd166c"
   },
   "outputs": [
    {
     "data": {
      "text/plain": [
       "'2.2.1'"
      ]
     },
     "execution_count": 1,
     "metadata": {},
     "output_type": "execute_result"
    }
   ],
   "source": [
    "import torch\n",
    "\n",
    "torch.__version__"
   ]
  },
  {
   "cell_type": "markdown",
   "id": "bba773c2-4c76-4213-a3c3-cd651124d825",
   "metadata": {
    "id": "bba773c2-4c76-4213-a3c3-cd651124d825"
   },
   "source": [
    "Importing required packages"
   ]
  },
  {
   "cell_type": "code",
   "execution_count": 3,
   "id": "b7812d16-81f1-440c-85ec-b1c5e32088ba",
   "metadata": {
    "id": "b7812d16-81f1-440c-85ec-b1c5e32088ba"
   },
   "outputs": [],
   "source": [
    "import numpy as np\n",
    "import pandas as pd\n",
    "import seaborn as sns\n",
    "import matplotlib.pyplot as plt\n",
    "\n",
    "import torch.nn as nn\n",
    "import torch.optim as optim\n",
    "from torch.utils.data import Dataset, DataLoader\n",
    "\n",
    "from sklearn.compose import ColumnTransformer\n",
    "from sklearn.model_selection import train_test_split\n",
    "from sklearn.preprocessing import StandardScaler, MinMaxScaler , OneHotEncoder"
   ]
  },
  {
   "cell_type": "markdown",
   "id": "ea8b9e09-2a9a-49c6-afb2-c0151a787399",
   "metadata": {
    "id": "ea8b9e09-2a9a-49c6-afb2-c0151a787399"
   },
   "source": [
    "Loading the data\n",
    "link-https://www.kaggle.com/datasets/simranjain17/insurance?select=insurance.csv"
   ]
  },
  {
   "cell_type": "code",
   "execution_count": 4,
   "id": "188e702b-75f4-46da-920e-49d3e21d8053",
   "metadata": {
    "colab": {
     "base_uri": "https://localhost:8080/",
     "height": 206
    },
    "id": "188e702b-75f4-46da-920e-49d3e21d8053",
    "outputId": "643ac645-568a-4e24-89fc-0da8e0b50a2e"
   },
   "outputs": [
    {
     "data": {
      "text/html": [
       "<div>\n",
       "<style scoped>\n",
       "    .dataframe tbody tr th:only-of-type {\n",
       "        vertical-align: middle;\n",
       "    }\n",
       "\n",
       "    .dataframe tbody tr th {\n",
       "        vertical-align: top;\n",
       "    }\n",
       "\n",
       "    .dataframe thead th {\n",
       "        text-align: right;\n",
       "    }\n",
       "</style>\n",
       "<table border=\"1\" class=\"dataframe\">\n",
       "  <thead>\n",
       "    <tr style=\"text-align: right;\">\n",
       "      <th></th>\n",
       "      <th>age</th>\n",
       "      <th>sex</th>\n",
       "      <th>bmi</th>\n",
       "      <th>children</th>\n",
       "      <th>smoker</th>\n",
       "      <th>region</th>\n",
       "      <th>charges</th>\n",
       "    </tr>\n",
       "  </thead>\n",
       "  <tbody>\n",
       "    <tr>\n",
       "      <th>0</th>\n",
       "      <td>19</td>\n",
       "      <td>female</td>\n",
       "      <td>27.900</td>\n",
       "      <td>0</td>\n",
       "      <td>yes</td>\n",
       "      <td>southwest</td>\n",
       "      <td>16884.92400</td>\n",
       "    </tr>\n",
       "    <tr>\n",
       "      <th>1</th>\n",
       "      <td>18</td>\n",
       "      <td>male</td>\n",
       "      <td>33.770</td>\n",
       "      <td>1</td>\n",
       "      <td>no</td>\n",
       "      <td>southeast</td>\n",
       "      <td>1725.55230</td>\n",
       "    </tr>\n",
       "    <tr>\n",
       "      <th>2</th>\n",
       "      <td>28</td>\n",
       "      <td>male</td>\n",
       "      <td>33.000</td>\n",
       "      <td>3</td>\n",
       "      <td>no</td>\n",
       "      <td>southeast</td>\n",
       "      <td>4449.46200</td>\n",
       "    </tr>\n",
       "    <tr>\n",
       "      <th>3</th>\n",
       "      <td>33</td>\n",
       "      <td>male</td>\n",
       "      <td>22.705</td>\n",
       "      <td>0</td>\n",
       "      <td>no</td>\n",
       "      <td>northwest</td>\n",
       "      <td>21984.47061</td>\n",
       "    </tr>\n",
       "    <tr>\n",
       "      <th>4</th>\n",
       "      <td>32</td>\n",
       "      <td>male</td>\n",
       "      <td>28.880</td>\n",
       "      <td>0</td>\n",
       "      <td>no</td>\n",
       "      <td>northwest</td>\n",
       "      <td>3866.85520</td>\n",
       "    </tr>\n",
       "  </tbody>\n",
       "</table>\n",
       "</div>"
      ],
      "text/plain": [
       "   age     sex     bmi  children smoker     region      charges\n",
       "0   19  female  27.900         0    yes  southwest  16884.92400\n",
       "1   18    male  33.770         1     no  southeast   1725.55230\n",
       "2   28    male  33.000         3     no  southeast   4449.46200\n",
       "3   33    male  22.705         0     no  northwest  21984.47061\n",
       "4   32    male  28.880         0     no  northwest   3866.85520"
      ]
     },
     "execution_count": 4,
     "metadata": {},
     "output_type": "execute_result"
    }
   ],
   "source": [
    "insurance_data = pd.read_csv(\"datasets/insurance.csv\")\n",
    "\n",
    "insurance_data.head()"
   ]
  },
  {
   "cell_type": "code",
   "execution_count": 5,
   "id": "9f71f416-6e7e-4520-aac0-a874dbb7d937",
   "metadata": {
    "colab": {
     "base_uri": "https://localhost:8080/"
    },
    "id": "9f71f416-6e7e-4520-aac0-a874dbb7d937",
    "outputId": "12f3ab48-4c55-4fe4-840d-efcc16cd0d2d"
   },
   "outputs": [
    {
     "data": {
      "text/plain": [
       "(1338, 7)"
      ]
     },
     "execution_count": 5,
     "metadata": {},
     "output_type": "execute_result"
    }
   ],
   "source": [
    "insurance_data.shape"
   ]
  },
  {
   "cell_type": "code",
   "execution_count": 6,
   "id": "fc261828-313d-4264-9cd6-27305218cb05",
   "metadata": {
    "colab": {
     "base_uri": "https://localhost:8080/"
    },
    "id": "fc261828-313d-4264-9cd6-27305218cb05",
    "outputId": "4c8f427c-5717-4b2c-8651-453780ad719a"
   },
   "outputs": [
    {
     "name": "stdout",
     "output_type": "stream",
     "text": [
      "<class 'pandas.core.frame.DataFrame'>\n",
      "RangeIndex: 1338 entries, 0 to 1337\n",
      "Data columns (total 7 columns):\n",
      " #   Column    Non-Null Count  Dtype  \n",
      "---  ------    --------------  -----  \n",
      " 0   age       1338 non-null   int64  \n",
      " 1   sex       1338 non-null   object \n",
      " 2   bmi       1338 non-null   float64\n",
      " 3   children  1338 non-null   int64  \n",
      " 4   smoker    1338 non-null   object \n",
      " 5   region    1338 non-null   object \n",
      " 6   charges   1338 non-null   float64\n",
      "dtypes: float64(2), int64(2), object(3)\n",
      "memory usage: 73.3+ KB\n"
     ]
    }
   ],
   "source": [
    "insurance_data.info()"
   ]
  },
  {
   "cell_type": "code",
   "execution_count": 7,
   "id": "185717c5-95d8-4789-87a1-30b0120606a7",
   "metadata": {
    "colab": {
     "base_uri": "https://localhost:8080/"
    },
    "id": "185717c5-95d8-4789-87a1-30b0120606a7",
    "outputId": "2a224879-2391-4309-ab2e-7f62a70fb7f8"
   },
   "outputs": [
    {
     "data": {
      "text/plain": [
       "Index(['age', 'sex', 'bmi', 'children', 'smoker', 'region', 'charges'], dtype='object')"
      ]
     },
     "execution_count": 7,
     "metadata": {},
     "output_type": "execute_result"
    }
   ],
   "source": [
    "insurance_data.columns"
   ]
  },
  {
   "cell_type": "code",
   "execution_count": 8,
   "id": "fa79f241-87c8-45ca-b619-fde5453a1071",
   "metadata": {
    "colab": {
     "base_uri": "https://localhost:8080/",
     "height": 466
    },
    "id": "fa79f241-87c8-45ca-b619-fde5453a1071",
    "outputId": "417417be-2d03-4363-f20c-0da561bee835"
   },
   "outputs": [
    {
     "data": {
      "text/plain": [
       "<AxesSubplot:xlabel='charges', ylabel='Count'>"
      ]
     },
     "execution_count": 8,
     "metadata": {},
     "output_type": "execute_result"
    },
    {
     "data": {
      "image/png": "[encoded data removed]",
      "text/plain": [
       "<Figure size 640x480 with 1 Axes>"
      ]
     },
     "metadata": {},
     "output_type": "display_data"
    }
   ],
   "source": [
    "sns.histplot(insurance_data[\"charges\"])"
   ]
  },
  {
   "cell_type": "code",
   "execution_count": 9,
   "id": "678b33f3",
   "metadata": {
    "colab": {
     "base_uri": "https://localhost:8080/",
     "height": 466
    },
    "id": "678b33f3",
    "outputId": "d85bb01a-a71f-4713-ddf9-f2d3142f81ce"
   },
   "outputs": [
    {
     "data": {
      "text/plain": [
       "<Axes: xlabel='smoker', ylabel='charges'>"
      ]
     },
     "execution_count": 9,
     "metadata": {},
     "output_type": "execute_result"
    },
    {
     "data": {
      "image/png": "[encoded data removed]",
      "text/plain": [
       "<Figure size 640x480 with 1 Axes>"
      ]
     },
     "metadata": {},
     "output_type": "display_data"
    }
   ],
   "source": [
    "sns.boxplot(y = insurance_data[\"charges\"], x = insurance_data[\"smoker\"])"
   ]
  },
  {
   "cell_type": "code",
   "execution_count": 10,
   "id": "b7e294da",
   "metadata": {
    "colab": {
     "base_uri": "https://localhost:8080/",
     "height": 466
    },
    "id": "b7e294da",
    "outputId": "acd3e079-d923-4a91-bb46-f4e3e6f3b79a"
   },
   "outputs": [
    {
     "data": {
      "text/plain": [
       "<Axes: xlabel='age', ylabel='charges'>"
      ]
     },
     "execution_count": 10,
     "metadata": {},
     "output_type": "execute_result"
    },
    {
     "data": {
      "image/png": "[encoded data removed]",
      "text/plain": [
       "<Figure size 640x480 with 1 Axes>"
      ]
     },
     "metadata": {},
     "output_type": "display_data"
    }
   ],
   "source": [
    "sns.scatterplot(y = insurance_data[\"charges\"], x = insurance_data[\"age\"])"
   ]
  },
  {
   "cell_type": "markdown",
   "id": "6256ac26-15e5-43bd-94c9-bff944ae1d3c",
   "metadata": {
    "id": "6256ac26-15e5-43bd-94c9-bff944ae1d3c"
   },
   "source": [
    "Splitting the data into training and validation sets"
   ]
  },
  {
   "cell_type": "code",
   "execution_count": 9,
   "id": "103c9642-a521-4cb0-ba6c-4633bda09b33",
   "metadata": {
    "colab": {
     "base_uri": "https://localhost:8080/"
    },
    "id": "103c9642-a521-4cb0-ba6c-4633bda09b33",
    "outputId": "14454067-e89f-4d2f-a24d-91f549969026"
   },
   "outputs": [
    {
     "data": {
      "text/plain": [
       "((1070, 6), (268, 6), (1070,), (268,))"
      ]
     },
     "execution_count": 9,
     "metadata": {},
     "output_type": "execute_result"
    }
   ],
   "source": [
    "X = insurance_data.drop(columns = [\"charges\"])\n",
    "y = insurance_data[\"charges\"]\n",
    "\n",
    "X_train, X_val, y_train, y_val = train_test_split(X, y, test_size = 0.2, random_state = 123)\n",
    "\n",
    "X_train.shape, X_val.shape, y_train.shape, y_val.shape"
   ]
  },
  {
   "cell_type": "markdown",
   "id": "f26e36d5-72ad-4f04-9e75-85fcfc6b62f8",
   "metadata": {
    "id": "f26e36d5-72ad-4f04-9e75-85fcfc6b62f8"
   },
   "source": [
    "Preprocessor for Data is defined by creating an instance of One-hot-encoder and also defining a column transformer to apply the One hot encoding to catrgorical varaiables only"
   ]
  },
  {
   "cell_type": "code",
   "execution_count": 10,
   "id": "02578393-2a66-4054-935f-66fbde76bce8",
   "metadata": {
    "id": "02578393-2a66-4054-935f-66fbde76bce8"
   },
   "outputs": [],
   "source": [
    "categorical_features = [\"sex\", \"smoker\", \"region\"]\n",
    "\n",
    "categorical_transformer = OneHotEncoder(\n",
    "    handle_unknown = \"ignore\", drop = \"first\", sparse_output = False\n",
    ")\n",
    "\n",
    "preprocessor = ColumnTransformer(\n",
    "    transformers = [(\"cat_tr\", categorical_transformer, categorical_features)],\n",
    "    remainder = \"passthrough\"\n",
    ")"
   ]
  },
  {
   "cell_type": "markdown",
   "id": "3e42ab9e-e06d-4cdd-b15c-320b7594a2d1",
   "metadata": {
    "id": "3e42ab9e-e06d-4cdd-b15c-320b7594a2d1"
   },
   "source": [
    "Applying preprocessor to train and validation data and checking the no. of columns"
   ]
  },
  {
   "cell_type": "code",
   "execution_count": 11,
   "id": "a6b1171f-341d-434c-a728-df936afebfcd",
   "metadata": {
    "colab": {
     "base_uri": "https://localhost:8080/"
    },
    "id": "a6b1171f-341d-434c-a728-df936afebfcd",
    "outputId": "d9f47e89-02f5-4aa5-82cc-71259b5aa80f"
   },
   "outputs": [
    {
     "data": {
      "text/plain": [
       "((1070, 8), (268, 8))"
      ]
     },
     "execution_count": 11,
     "metadata": {},
     "output_type": "execute_result"
    }
   ],
   "source": [
    "X_train = preprocessor.fit_transform(X_train)\n",
    "X_val = preprocessor.transform(X_val)\n",
    "\n",
    "X_train.shape, X_val.shape"
   ]
  },
  {
   "cell_type": "markdown",
   "id": "c8b82463-664a-4cbb-966a-76dde924fe6a",
   "metadata": {
    "id": "c8b82463-664a-4cbb-966a-76dde924fe6a"
   },
   "source": [
    "Preprocessed training data is shown which is in Numpy array form and one hot encoded columns are seen but with no column names"
   ]
  },
  {
   "cell_type": "code",
   "execution_count": 12,
   "id": "76a5efb2-23d0-4ca7-a25d-eea19800da69",
   "metadata": {
    "colab": {
     "base_uri": "https://localhost:8080/"
    },
    "id": "76a5efb2-23d0-4ca7-a25d-eea19800da69",
    "outputId": "58faaa3d-5012-427c-8cac-d8f6fb5baec8"
   },
   "outputs": [
    {
     "name": "stdout",
     "output_type": "stream",
     "text": [
      "[[ 1.     0.     1.    ... 40.    26.315  1.   ]\n",
      " [ 0.     1.     0.    ... 37.    38.39   0.   ]\n",
      " [ 1.     0.     0.    ... 50.    26.6    0.   ]\n",
      " ...\n",
      " [ 0.     0.     0.    ... 19.    28.4    1.   ]\n",
      " [ 1.     0.     0.    ... 18.    23.085  0.   ]\n",
      " [ 0.     1.     1.    ... 53.    36.86   3.   ]]\n"
     ]
    }
   ],
   "source": [
    "print(X_train)"
   ]
  },
  {
   "cell_type": "markdown",
   "id": "c4bb23a3-96c7-480c-9db3-48afbe13c34d",
   "metadata": {
    "id": "c4bb23a3-96c7-480c-9db3-48afbe13c34d"
   },
   "source": [
    "The numpy array is made into dataframe with column names for full clarity of data preprocessing"
   ]
  },
  {
   "cell_type": "code",
   "execution_count": 13,
   "id": "151363c6-a42d-4753-90be-7a5681fd4dd7",
   "metadata": {
    "colab": {
     "base_uri": "https://localhost:8080/",
     "height": 330
    },
    "id": "151363c6-a42d-4753-90be-7a5681fd4dd7",
    "outputId": "477e34cc-cb7b-46f9-ba40-7b728eee4d3f"
   },
   "outputs": [
    {
     "data": {
      "text/html": [
       "<div>\n",
       "<style scoped>\n",
       "    .dataframe tbody tr th:only-of-type {\n",
       "        vertical-align: middle;\n",
       "    }\n",
       "\n",
       "    .dataframe tbody tr th {\n",
       "        vertical-align: top;\n",
       "    }\n",
       "\n",
       "    .dataframe thead th {\n",
       "        text-align: right;\n",
       "    }\n",
       "</style>\n",
       "<table border=\"1\" class=\"dataframe\">\n",
       "  <thead>\n",
       "    <tr style=\"text-align: right;\">\n",
       "      <th></th>\n",
       "      <th>0</th>\n",
       "      <th>1</th>\n",
       "      <th>2</th>\n",
       "      <th>3</th>\n",
       "      <th>4</th>\n",
       "      <th>5</th>\n",
       "      <th>6</th>\n",
       "      <th>7</th>\n",
       "      <th>8</th>\n",
       "      <th>9</th>\n",
       "      <th>...</th>\n",
       "      <th>1060</th>\n",
       "      <th>1061</th>\n",
       "      <th>1062</th>\n",
       "      <th>1063</th>\n",
       "      <th>1064</th>\n",
       "      <th>1065</th>\n",
       "      <th>1066</th>\n",
       "      <th>1067</th>\n",
       "      <th>1068</th>\n",
       "      <th>1069</th>\n",
       "    </tr>\n",
       "  </thead>\n",
       "  <tbody>\n",
       "    <tr>\n",
       "      <th>cat_tr__sex_male</th>\n",
       "      <td>1.000</td>\n",
       "      <td>0.00</td>\n",
       "      <td>1.0</td>\n",
       "      <td>1.000</td>\n",
       "      <td>0.0</td>\n",
       "      <td>1.0</td>\n",
       "      <td>0.0</td>\n",
       "      <td>1.00</td>\n",
       "      <td>1.00</td>\n",
       "      <td>0.00</td>\n",
       "      <td>...</td>\n",
       "      <td>1.00</td>\n",
       "      <td>0.00</td>\n",
       "      <td>1.00</td>\n",
       "      <td>0.00</td>\n",
       "      <td>0.0</td>\n",
       "      <td>1.000</td>\n",
       "      <td>0.00</td>\n",
       "      <td>0.0</td>\n",
       "      <td>1.000</td>\n",
       "      <td>0.00</td>\n",
       "    </tr>\n",
       "    <tr>\n",
       "      <th>cat_tr__smoker_yes</th>\n",
       "      <td>0.000</td>\n",
       "      <td>1.00</td>\n",
       "      <td>0.0</td>\n",
       "      <td>0.000</td>\n",
       "      <td>0.0</td>\n",
       "      <td>0.0</td>\n",
       "      <td>0.0</td>\n",
       "      <td>0.00</td>\n",
       "      <td>1.00</td>\n",
       "      <td>0.00</td>\n",
       "      <td>...</td>\n",
       "      <td>0.00</td>\n",
       "      <td>0.00</td>\n",
       "      <td>1.00</td>\n",
       "      <td>0.00</td>\n",
       "      <td>0.0</td>\n",
       "      <td>0.000</td>\n",
       "      <td>0.00</td>\n",
       "      <td>0.0</td>\n",
       "      <td>0.000</td>\n",
       "      <td>1.00</td>\n",
       "    </tr>\n",
       "    <tr>\n",
       "      <th>cat_tr__region_northwest</th>\n",
       "      <td>1.000</td>\n",
       "      <td>0.00</td>\n",
       "      <td>0.0</td>\n",
       "      <td>0.000</td>\n",
       "      <td>0.0</td>\n",
       "      <td>0.0</td>\n",
       "      <td>0.0</td>\n",
       "      <td>0.00</td>\n",
       "      <td>0.00</td>\n",
       "      <td>1.00</td>\n",
       "      <td>...</td>\n",
       "      <td>0.00</td>\n",
       "      <td>1.00</td>\n",
       "      <td>0.00</td>\n",
       "      <td>1.00</td>\n",
       "      <td>0.0</td>\n",
       "      <td>0.000</td>\n",
       "      <td>1.00</td>\n",
       "      <td>0.0</td>\n",
       "      <td>0.000</td>\n",
       "      <td>1.00</td>\n",
       "    </tr>\n",
       "    <tr>\n",
       "      <th>cat_tr__region_southeast</th>\n",
       "      <td>0.000</td>\n",
       "      <td>1.00</td>\n",
       "      <td>0.0</td>\n",
       "      <td>0.000</td>\n",
       "      <td>0.0</td>\n",
       "      <td>1.0</td>\n",
       "      <td>0.0</td>\n",
       "      <td>1.00</td>\n",
       "      <td>1.00</td>\n",
       "      <td>0.00</td>\n",
       "      <td>...</td>\n",
       "      <td>1.00</td>\n",
       "      <td>0.00</td>\n",
       "      <td>0.00</td>\n",
       "      <td>0.00</td>\n",
       "      <td>0.0</td>\n",
       "      <td>0.000</td>\n",
       "      <td>0.00</td>\n",
       "      <td>0.0</td>\n",
       "      <td>0.000</td>\n",
       "      <td>0.00</td>\n",
       "    </tr>\n",
       "    <tr>\n",
       "      <th>cat_tr__region_southwest</th>\n",
       "      <td>0.000</td>\n",
       "      <td>0.00</td>\n",
       "      <td>1.0</td>\n",
       "      <td>0.000</td>\n",
       "      <td>1.0</td>\n",
       "      <td>0.0</td>\n",
       "      <td>1.0</td>\n",
       "      <td>0.00</td>\n",
       "      <td>0.00</td>\n",
       "      <td>0.00</td>\n",
       "      <td>...</td>\n",
       "      <td>0.00</td>\n",
       "      <td>0.00</td>\n",
       "      <td>0.00</td>\n",
       "      <td>0.00</td>\n",
       "      <td>1.0</td>\n",
       "      <td>0.000</td>\n",
       "      <td>0.00</td>\n",
       "      <td>1.0</td>\n",
       "      <td>0.000</td>\n",
       "      <td>0.00</td>\n",
       "    </tr>\n",
       "    <tr>\n",
       "      <th>remainder__age</th>\n",
       "      <td>40.000</td>\n",
       "      <td>37.00</td>\n",
       "      <td>50.0</td>\n",
       "      <td>46.000</td>\n",
       "      <td>21.0</td>\n",
       "      <td>59.0</td>\n",
       "      <td>48.0</td>\n",
       "      <td>32.00</td>\n",
       "      <td>26.00</td>\n",
       "      <td>33.00</td>\n",
       "      <td>...</td>\n",
       "      <td>58.00</td>\n",
       "      <td>28.00</td>\n",
       "      <td>39.00</td>\n",
       "      <td>21.00</td>\n",
       "      <td>54.0</td>\n",
       "      <td>37.000</td>\n",
       "      <td>20.00</td>\n",
       "      <td>19.0</td>\n",
       "      <td>18.000</td>\n",
       "      <td>53.00</td>\n",
       "    </tr>\n",
       "    <tr>\n",
       "      <th>remainder__bmi</th>\n",
       "      <td>26.315</td>\n",
       "      <td>38.39</td>\n",
       "      <td>26.6</td>\n",
       "      <td>24.795</td>\n",
       "      <td>17.4</td>\n",
       "      <td>26.4</td>\n",
       "      <td>28.9</td>\n",
       "      <td>37.18</td>\n",
       "      <td>27.06</td>\n",
       "      <td>42.94</td>\n",
       "      <td>...</td>\n",
       "      <td>32.01</td>\n",
       "      <td>34.77</td>\n",
       "      <td>26.41</td>\n",
       "      <td>35.72</td>\n",
       "      <td>30.8</td>\n",
       "      <td>22.705</td>\n",
       "      <td>31.92</td>\n",
       "      <td>28.4</td>\n",
       "      <td>23.085</td>\n",
       "      <td>36.86</td>\n",
       "    </tr>\n",
       "    <tr>\n",
       "      <th>remainder__children</th>\n",
       "      <td>1.000</td>\n",
       "      <td>0.00</td>\n",
       "      <td>0.0</td>\n",
       "      <td>3.000</td>\n",
       "      <td>1.0</td>\n",
       "      <td>0.0</td>\n",
       "      <td>0.0</td>\n",
       "      <td>2.00</td>\n",
       "      <td>0.00</td>\n",
       "      <td>3.00</td>\n",
       "      <td>...</td>\n",
       "      <td>1.00</td>\n",
       "      <td>0.00</td>\n",
       "      <td>0.00</td>\n",
       "      <td>0.00</td>\n",
       "      <td>3.0</td>\n",
       "      <td>3.000</td>\n",
       "      <td>0.00</td>\n",
       "      <td>1.0</td>\n",
       "      <td>0.000</td>\n",
       "      <td>3.00</td>\n",
       "    </tr>\n",
       "  </tbody>\n",
       "</table>\n",
       "<p>8 rows × 1070 columns</p>\n",
       "</div>"
      ],
      "text/plain": [
       "                            0      1     2       3     4     5     6     \\\n",
       "cat_tr__sex_male           1.000   0.00   1.0   1.000   0.0   1.0   0.0   \n",
       "cat_tr__smoker_yes         0.000   1.00   0.0   0.000   0.0   0.0   0.0   \n",
       "cat_tr__region_northwest   1.000   0.00   0.0   0.000   0.0   0.0   0.0   \n",
       "cat_tr__region_southeast   0.000   1.00   0.0   0.000   0.0   1.0   0.0   \n",
       "cat_tr__region_southwest   0.000   0.00   1.0   0.000   1.0   0.0   1.0   \n",
       "remainder__age            40.000  37.00  50.0  46.000  21.0  59.0  48.0   \n",
       "remainder__bmi            26.315  38.39  26.6  24.795  17.4  26.4  28.9   \n",
       "remainder__children        1.000   0.00   0.0   3.000   1.0   0.0   0.0   \n",
       "\n",
       "                           7      8      9     ...   1060   1061   1062  \\\n",
       "cat_tr__sex_male           1.00   1.00   0.00  ...   1.00   0.00   1.00   \n",
       "cat_tr__smoker_yes         0.00   1.00   0.00  ...   0.00   0.00   1.00   \n",
       "cat_tr__region_northwest   0.00   0.00   1.00  ...   0.00   1.00   0.00   \n",
       "cat_tr__region_southeast   1.00   1.00   0.00  ...   1.00   0.00   0.00   \n",
       "cat_tr__region_southwest   0.00   0.00   0.00  ...   0.00   0.00   0.00   \n",
       "remainder__age            32.00  26.00  33.00  ...  58.00  28.00  39.00   \n",
       "remainder__bmi            37.18  27.06  42.94  ...  32.01  34.77  26.41   \n",
       "remainder__children        2.00   0.00   3.00  ...   1.00   0.00   0.00   \n",
       "\n",
       "                           1063  1064    1065   1066  1067    1068   1069  \n",
       "cat_tr__sex_male           0.00   0.0   1.000   0.00   0.0   1.000   0.00  \n",
       "cat_tr__smoker_yes         0.00   0.0   0.000   0.00   0.0   0.000   1.00  \n",
       "cat_tr__region_northwest   1.00   0.0   0.000   1.00   0.0   0.000   1.00  \n",
       "cat_tr__region_southeast   0.00   0.0   0.000   0.00   0.0   0.000   0.00  \n",
       "cat_tr__region_southwest   0.00   1.0   0.000   0.00   1.0   0.000   0.00  \n",
       "remainder__age            21.00  54.0  37.000  20.00  19.0  18.000  53.00  \n",
       "remainder__bmi            35.72  30.8  22.705  31.92  28.4  23.085  36.86  \n",
       "remainder__children        0.00   3.0   3.000   0.00   1.0   0.000   3.00  \n",
       "\n",
       "[8 rows x 1070 columns]"
      ]
     },
     "execution_count": 13,
     "metadata": {},
     "output_type": "execute_result"
    }
   ],
   "source": [
    "pd.DataFrame(X_train, columns = preprocessor.get_feature_names_out()).T"
   ]
  },
  {
   "cell_type": "markdown",
   "id": "83bbdea3-0df9-4193-a453-097a37030b10",
   "metadata": {
    "id": "83bbdea3-0df9-4193-a453-097a37030b10"
   },
   "source": [
    "The target values converted into numpy array and some are displayed which are  quite large, so our Mean squared error will be large"
   ]
  },
  {
   "cell_type": "code",
   "execution_count": 14,
   "id": "f0ade179-e469-4d06-b373-0b8d00abdf0b",
   "metadata": {
    "colab": {
     "base_uri": "https://localhost:8080/"
    },
    "id": "f0ade179-e469-4d06-b373-0b8d00abdf0b",
    "outputId": "88f060d2-7222-4a9c-9d28-4f1b4d598874"
   },
   "outputs": [
    {
     "data": {
      "text/plain": [
       "array([ 6389.37785, 40419.0191 ,  8444.474  ,  9500.57305,  2585.269  ,\n",
       "       11743.299  ,  8277.523  ,  4673.3922 , 17043.3414 ,  6360.9936 ])"
      ]
     },
     "execution_count": 14,
     "metadata": {},
     "output_type": "execute_result"
    }
   ],
   "source": [
    "y_train = y_train.to_numpy()\n",
    "y_val = y_val.to_numpy()\n",
    "\n",
    "y_train[:10]"
   ]
  },
  {
   "cell_type": "markdown",
   "id": "0f2d55a8-fdae-4ec1-9030-94c31cc574ee",
   "metadata": {
    "id": "0f2d55a8-fdae-4ec1-9030-94c31cc574ee"
   },
   "source": [
    "Scaling all columns before training otherwise Error will be NAs training wont happen"
   ]
  },
  {
   "cell_type": "code",
   "execution_count": 16,
   "id": "a7fefb79-c38d-44bb-8d74-b237e6395dbc",
   "metadata": {
    "colab": {
     "base_uri": "https://localhost:8080/"
    },
    "id": "a7fefb79-c38d-44bb-8d74-b237e6395dbc",
    "outputId": "9495cb49-ff2c-44c1-8e47-5118bd29d3e5"
   },
   "outputs": [
    {
     "name": "stdout",
     "output_type": "stream",
     "text": [
      "[[ 0.98884723 -0.5         1.72132593 ...  0.06207177 -0.71961\n",
      "  -0.06736631]\n",
      " [-1.01127855  2.         -0.5809475  ... -0.15057538  1.28697921\n",
      "  -0.8864794 ]\n",
      " [ 0.98884723 -0.5        -0.5809475  ...  0.77089561 -0.67224951\n",
      "  -0.8864794 ]\n",
      " ...\n",
      " [-1.01127855 -0.5        -0.5809475  ... -1.42645829 -0.37313062\n",
      "  -0.06736631]\n",
      " [ 0.98884723 -0.5        -0.5809475  ... -1.49734067 -1.25636223\n",
      "  -0.8864794 ]\n",
      " [-1.01127855  2.          1.72132593 ...  0.98354276  1.03272816\n",
      "   1.57085987]]\n"
     ]
    }
   ],
   "source": [
    "# Preserve info in individual features but have them around 0\n",
    "stdscaler = StandardScaler()\n",
    "\n",
    "X_train = stdscaler.fit_transform(X_train)\n",
    "X_val = stdscaler.transform(X_val)\n",
    "\n",
    "print(X_train)"
   ]
  },
  {
   "cell_type": "markdown",
   "id": "f9a6340d-35a2-4dd4-8ee1-ef9498e45bdb",
   "metadata": {
    "id": "f9a6340d-35a2-4dd4-8ee1-ef9498e45bdb"
   },
   "source": [
    "Scaling targets using MinMax scaler"
   ]
  },
  {
   "cell_type": "code",
   "execution_count": 17,
   "id": "f92ba944",
   "metadata": {
    "colab": {
     "base_uri": "https://localhost:8080/"
    },
    "id": "f92ba944",
    "outputId": "95814d71-f9ad-4490-d426-d4bbddfdad0d"
   },
   "outputs": [
    {
     "data": {
      "text/plain": [
       "array([[ 6389.37785],\n",
       "       [40419.0191 ],\n",
       "       [ 8444.474  ],\n",
       "       ...,\n",
       "       [ 2331.519  ],\n",
       "       [ 1704.70015],\n",
       "       [46661.4424 ]])"
      ]
     },
     "execution_count": 17,
     "metadata": {},
     "output_type": "execute_result"
    }
   ],
   "source": [
    "y_train.reshape(-1, 1)"
   ]
  },
  {
   "cell_type": "code",
   "execution_count": 18,
   "id": "557a7429-d1aa-413d-9a24-d6894d89acdb",
   "metadata": {
    "id": "557a7429-d1aa-413d-9a24-d6894d89acdb"
   },
   "outputs": [],
   "source": [
    "min_max_scaler = MinMaxScaler()\n",
    "\n",
    "y_train = min_max_scaler.fit_transform(y_train.reshape(-1, 1))\n",
    "\n",
    "y_val = min_max_scaler.transform(y_val.reshape(-1, 1))"
   ]
  },
  {
   "cell_type": "markdown",
   "id": "b18b37fb-627a-4e79-a647-099d3b437d05",
   "metadata": {
    "id": "b18b37fb-627a-4e79-a647-099d3b437d05"
   },
   "source": [
    "Converting inputs and targets to tensors"
   ]
  },
  {
   "cell_type": "code",
   "execution_count": 19,
   "id": "777ab6ce-71a3-46db-af90-09ea93e6c9a7",
   "metadata": {
    "colab": {
     "base_uri": "https://localhost:8080/"
    },
    "id": "777ab6ce-71a3-46db-af90-09ea93e6c9a7",
    "outputId": "8869952f-d7ed-4fb8-cee1-72a277440d8c"
   },
   "outputs": [
    {
     "data": {
      "text/plain": [
       "(torch.Size([1070, 8]), torch.Size([1070, 1]))"
      ]
     },
     "execution_count": 19,
     "metadata": {},
     "output_type": "execute_result"
    }
   ],
   "source": [
    "train_inputs = torch.from_numpy(X_train).float()\n",
    "train_targets = torch.from_numpy(y_train.reshape(-1, 1)).float()\n",
    "\n",
    "train_inputs.shape, train_targets.shape"
   ]
  },
  {
   "cell_type": "markdown",
   "id": "f288f7f5-4d84-41ab-9337-a4835ca75c5c",
   "metadata": {
    "id": "f288f7f5-4d84-41ab-9337-a4835ca75c5c"
   },
   "source": [
    "Creating a Simple Neural network which is equivalent to Linear Regression model"
   ]
  },
  {
   "cell_type": "code",
   "execution_count": 20,
   "id": "a85cb82c-50f0-4ae2-abe0-66ad45c12a11",
   "metadata": {
    "id": "a85cb82c-50f0-4ae2-abe0-66ad45c12a11"
   },
   "outputs": [],
   "source": [
    "class SimpleNeuralNet(nn.Module):\n",
    "\n",
    "    # Initialize the layers\n",
    "    def __init__(self, num_features):\n",
    "\n",
    "        super().__init__()\n",
    "\n",
    "        self.linear1 = nn.Linear(num_features, 1)\n",
    "\n",
    "    # Perform the computation\n",
    "    def forward(self, x):\n",
    "\n",
    "        x = self.linear1(x)\n",
    "\n",
    "        return x"
   ]
  },
  {
   "cell_type": "code",
   "execution_count": 102,
   "id": "d63274dd",
   "metadata": {
    "id": "d63274dd"
   },
   "outputs": [],
   "source": [
    "# class SimpleNeuralNet(nn.Module):\n",
    "\n",
    "#     # Initialize the layers\n",
    "#     def __init__(self, num_features):\n",
    "\n",
    "#         super().__init__()\n",
    "\n",
    "#         self.layer_1 = nn.Linear(num_features, 16)\n",
    "#         self.layer_2 = nn.Linear(16, 32)\n",
    "#         self.layer_3 = nn.Linear(32, 16)\n",
    "#         self.layer_out = nn.Linear(16, 1)\n",
    "\n",
    "#         self.relu = nn.ReLU()\n",
    "\n",
    "#     def forward(self, inputs):\n",
    "#         x = self.relu(self.layer_1(inputs))\n",
    "#         x = self.relu(self.layer_2(x))\n",
    "#         x = self.relu(self.layer_3(x))\n",
    "\n",
    "#         x = self.layer_out(x)\n",
    "\n",
    "#         return (x)\n",
    "\n",
    "#     def predict(self, test_inputs):\n",
    "#         x = self.relu(self.layer_1(test_inputs))\n",
    "#         x = self.relu(self.layer_2(x))\n",
    "#         x = self.relu(self.layer_3(x))\n",
    "\n",
    "#         x = self.layer_out(x)\n",
    "\n",
    "#         return (x)"
   ]
  },
  {
   "cell_type": "markdown",
   "id": "68349aed-4611-4670-a60a-6a818d6fefc4",
   "metadata": {
    "id": "68349aed-4611-4670-a60a-6a818d6fefc4"
   },
   "source": [
    "## Neural Network with more layers\n",
    "class NeuralNetRegression(nn.Module):\n",
    "    # Initialize the layers\n",
    "    def __init__(self, num_features):\n",
    "        super(NeuralNetRegression, self).__init__()\n",
    "\n",
    "        self.layer_1 = nn.Linear(num_features, 16)\n",
    "        self.layer_2 = nn.Linear(16, 32)\n",
    "        self.layer_3 = nn.Linear(32, 16)\n",
    "        self.layer_out = nn.Linear(16, 1)\n",
    "\n",
    "        self.relu = nn.ReLU()\n",
    "    def forward(self, inputs):\n",
    "        x = self.relu(self.layer_1(inputs))\n",
    "        x = self.relu(self.layer_2(x))\n",
    "        x = self.relu(self.layer_3(x))\n",
    "        x = self.layer_out(x)\n",
    "        return (x)\n",
    "    def predict(self, test_inputs):\n",
    "        x = self.relu(self.layer_1(test_inputs))\n",
    "        x = self.relu(self.layer_2(x))\n",
    "        x = self.relu(self.layer_3(x))\n",
    "        x = self.layer_out(x)\n",
    "        return (x)"
   ]
  },
  {
   "cell_type": "code",
   "execution_count": 21,
   "id": "efe8143a-b079-411f-a4f2-da738e7701b0",
   "metadata": {
    "colab": {
     "base_uri": "https://localhost:8080/"
    },
    "id": "efe8143a-b079-411f-a4f2-da738e7701b0",
    "outputId": "1e7d15b1-ee10-4c09-8562-5174222e317d"
   },
   "outputs": [
    {
     "name": "stdout",
     "output_type": "stream",
     "text": [
      "SimpleNeuralNet(\n",
      "  (linear1): Linear(in_features=8, out_features=1, bias=True)\n",
      ")\n"
     ]
    }
   ],
   "source": [
    "model = SimpleNeuralNet(num_features=8)\n",
    "\n",
    "print(model)"
   ]
  },
  {
   "cell_type": "markdown",
   "id": "5cfa5c8f-9370-4c60-a6f8-a391bcee9e27",
   "metadata": {
    "id": "5cfa5c8f-9370-4c60-a6f8-a391bcee9e27"
   },
   "source": [
    "Model weights and biases can be obtained"
   ]
  },
  {
   "cell_type": "code",
   "execution_count": 22,
   "id": "5dcd47ea-a277-4ab1-a316-cee9c143d6e9",
   "metadata": {
    "colab": {
     "base_uri": "https://localhost:8080/"
    },
    "id": "5dcd47ea-a277-4ab1-a316-cee9c143d6e9",
    "outputId": "ce9a0ce1-432d-422a-ecbf-7cf98af87449"
   },
   "outputs": [
    {
     "name": "stdout",
     "output_type": "stream",
     "text": [
      "tensor([[ 0.3289, -0.2412, -0.1677, -0.3268,  0.1143, -0.1394,  0.1262,  0.0642]])\n",
      "tensor([-0.0051])\n"
     ]
    }
   ],
   "source": [
    "for layer in model.children():\n",
    "\n",
    "    if isinstance(layer, nn.Linear):\n",
    "        print(layer.state_dict()[\"weight\"])\n",
    "        print(layer.state_dict()[\"bias\"])"
   ]
  },
  {
   "cell_type": "code",
   "execution_count": 23,
   "id": "7ec94598-2245-4e52-a0af-a18d362b554a",
   "metadata": {
    "colab": {
     "base_uri": "https://localhost:8080/"
    },
    "id": "7ec94598-2245-4e52-a0af-a18d362b554a",
    "outputId": "faa06266-9aec-4d86-c47e-f8fccbce6b36"
   },
   "outputs": [
    {
     "data": {
      "text/plain": [
       "9"
      ]
     },
     "execution_count": 23,
     "metadata": {},
     "output_type": "execute_result"
    }
   ],
   "source": [
    "def count_parameters(model):\n",
    "    return sum(p.numel() for p in model.parameters() if p.requires_grad)\n",
    "\n",
    "count_parameters(model)"
   ]
  },
  {
   "cell_type": "markdown",
   "id": "37077fd0-a6c1-4681-854f-749e6cb7cb6d",
   "metadata": {
    "id": "37077fd0-a6c1-4681-854f-749e6cb7cb6d"
   },
   "source": [
    "Defining loss function for model which is mse_loss"
   ]
  },
  {
   "cell_type": "code",
   "execution_count": 24,
   "id": "3af8d2a4-7545-4ac7-a6c2-86b277544430",
   "metadata": {
    "id": "3af8d2a4-7545-4ac7-a6c2-86b277544430"
   },
   "outputs": [],
   "source": [
    "import torch.nn.functional as F\n",
    "\n",
    "loss_fn = F.mse_loss"
   ]
  },
  {
   "cell_type": "markdown",
   "id": "9271609f-7d3e-49ad-add1-b39537812791",
   "metadata": {
    "id": "9271609f-7d3e-49ad-add1-b39537812791"
   },
   "source": [
    "Obtaining Loss for untrained model"
   ]
  },
  {
   "cell_type": "code",
   "execution_count": 25,
   "id": "05d0ba78-9340-4e69-bf9c-cd27772b5d75",
   "metadata": {
    "colab": {
     "base_uri": "https://localhost:8080/"
    },
    "id": "05d0ba78-9340-4e69-bf9c-cd27772b5d75",
    "outputId": "b1d29da4-a6f2-48ef-d4a0-aa408db2cf76"
   },
   "outputs": [
    {
     "name": "stdout",
     "output_type": "stream",
     "text": [
      "tensor(0.4974, grad_fn=<MseLossBackward0>)\n"
     ]
    }
   ],
   "source": [
    "loss = loss_fn(model(train_inputs), train_targets)\n",
    "\n",
    "print(loss)"
   ]
  },
  {
   "cell_type": "markdown",
   "id": "a7e05b03-daf2-41a2-b88c-ad10262a87b4",
   "metadata": {
    "id": "a7e05b03-daf2-41a2-b88c-ad10262a87b4"
   },
   "source": [
    "Generating  predictions with untrained model initialiased with random weights and biases"
   ]
  },
  {
   "cell_type": "code",
   "execution_count": 26,
   "id": "48d343e7-1bda-47ed-bff8-ce143ca61eff",
   "metadata": {
    "colab": {
     "base_uri": "https://localhost:8080/"
    },
    "id": "48d343e7-1bda-47ed-bff8-ce143ca61eff",
    "outputId": "caf7c0e8-3330-4f9f-f963-b203a927c099"
   },
   "outputs": [
    {
     "data": {
      "text/plain": [
       "tensor([[ 0.1887],\n",
       "        [-1.1847],\n",
       "        [ 0.7005],\n",
       "        ...,\n",
       "        [ 0.4395],\n",
       "        [ 0.6718],\n",
       "        [-0.8742]], grad_fn=<AddmmBackward0>)"
      ]
     },
     "execution_count": 26,
     "metadata": {},
     "output_type": "execute_result"
    }
   ],
   "source": [
    "preds = model(train_inputs)\n",
    "\n",
    "preds"
   ]
  },
  {
   "cell_type": "markdown",
   "id": "94342a45-4c4d-4234-96c5-5f12906193e0",
   "metadata": {
    "id": "94342a45-4c4d-4234-96c5-5f12906193e0"
   },
   "source": [
    "Now we would be using Torchmetrics library for calculating the performance metrics of untrained model"
   ]
  },
  {
   "cell_type": "code",
   "execution_count": 149,
   "id": "19d43e05-d4cf-40fc-b0e6-cddfe7397adf",
   "metadata": {
    "colab": {
     "base_uri": "https://localhost:8080/"
    },
    "id": "19d43e05-d4cf-40fc-b0e6-cddfe7397adf",
    "outputId": "1832073d-ef90-42d2-fd88-3b443b112c84"
   },
   "outputs": [
    {
     "name": "stdout",
     "output_type": "stream",
     "text": [
      "Mean Squared Error : 0.4944959282875061\n",
      "R^2 : -11.8937349319458\n"
     ]
    }
   ],
   "source": [
    "from torchmetrics.regression import R2Score\n",
    "from torchmetrics.regression import MeanSquaredError\n",
    "\n",
    "MSE = MeanSquaredError()\n",
    "\n",
    "r2score = R2Score()\n",
    "\n",
    "print(\"Mean Squared Error :\", MSE(preds, train_targets).item())\n",
    "print(\"R^2 :\", r2score(preds, train_targets).item())"
   ]
  },
  {
   "cell_type": "markdown",
   "id": "68293339-2f93-49f4-84aa-cdce522052c5",
   "metadata": {
    "id": "68293339-2f93-49f4-84aa-cdce522052c5"
   },
   "source": [
    "Defining the Dataset and creating dataloader for training model in batches"
   ]
  },
  {
   "cell_type": "code",
   "execution_count": 27,
   "id": "58c23402-271a-4f15-b2cb-b85be5e0fb45",
   "metadata": {
    "colab": {
     "base_uri": "https://localhost:8080/"
    },
    "id": "58c23402-271a-4f15-b2cb-b85be5e0fb45",
    "outputId": "89c87c7e-0fb3-42d7-a19d-5fe6137c196b"
   },
   "outputs": [
    {
     "data": {
      "text/plain": [
       "(tensor([[ 0.9888, -0.5000,  1.7213, -0.6213, -0.5478,  0.0621, -0.7196, -0.0674],\n",
       "         [-1.0113,  2.0000, -0.5809,  1.6095, -0.5478, -0.1506,  1.2870, -0.8865],\n",
       "         [ 0.9888, -0.5000, -0.5809, -0.6213,  1.8254,  0.7709, -0.6722, -0.8865],\n",
       "         [ 0.9888, -0.5000, -0.5809, -0.6213, -0.5478,  0.4874, -0.9722,  1.5709],\n",
       "         [-1.0113, -0.5000, -0.5809, -0.6213,  1.8254, -1.2847, -2.2011, -0.0674]]),\n",
       " tensor([[0.0857],\n",
       "         [0.6393],\n",
       "         [0.1191],\n",
       "         [0.1363],\n",
       "         [0.0238]]))"
      ]
     },
     "execution_count": 27,
     "metadata": {},
     "output_type": "execute_result"
    }
   ],
   "source": [
    "from torch.utils.data import TensorDataset, DataLoader\n",
    "\n",
    "train_ds = TensorDataset(train_inputs, train_targets)\n",
    "\n",
    "train_ds[:5]"
   ]
  },
  {
   "cell_type": "markdown",
   "id": "a094eb38-0fc9-4a42-bac2-3d8c5d32e160",
   "metadata": {
    "id": "a094eb38-0fc9-4a42-bac2-3d8c5d32e160"
   },
   "source": [
    "Defining  data loader from dataset and enabling shuffling for Training dataloader"
   ]
  },
  {
   "cell_type": "code",
   "execution_count": 28,
   "id": "248ae877-bd59-4c67-83b3-e4ff528633f7",
   "metadata": {
    "colab": {
     "base_uri": "https://localhost:8080/"
    },
    "id": "248ae877-bd59-4c67-83b3-e4ff528633f7",
    "outputId": "fcaa83d4-30a9-4331-97f0-dcd3af084e00"
   },
   "outputs": [
    {
     "data": {
      "text/plain": [
       "[tensor([[-1.0113, -0.5000,  1.7213, -0.6213, -0.5478, -0.6468, -1.7773,  1.5709],\n",
       "         [-1.0113, -0.5000,  1.7213, -0.6213, -0.5478,  0.6291, -0.4512,  2.3900],\n",
       "         [-1.0113, -0.5000,  1.7213, -0.6213, -0.5478, -1.1429, -0.4197, -0.8865],\n",
       "         [ 0.9888, -0.5000, -0.5809,  1.6095, -0.5478,  1.0544, -1.6012,  0.7517],\n",
       "         [-1.0113, -0.5000, -0.5809, -0.6213, -0.5478,  0.9127,  0.0382, -0.8865],\n",
       "         [-1.0113, -0.5000, -0.5809, -0.6213,  1.8254,  0.5582, -1.1708, -0.0674],\n",
       "         [-1.0113, -0.5000, -0.5809, -0.6213, -0.5478, -0.2923,  1.2380,  0.7517],\n",
       "         [-1.0113, -0.5000,  1.7213, -0.6213, -0.5478, -1.2847,  0.3381,  0.7517]]),\n",
       " tensor([[0.0744],\n",
       "         [0.1609],\n",
       "         [0.0255],\n",
       "         [0.1609],\n",
       "         [0.3567],\n",
       "         [0.1207],\n",
       "         [0.3871],\n",
       "         [0.4050]])]"
      ]
     },
     "execution_count": 28,
     "metadata": {},
     "output_type": "execute_result"
    }
   ],
   "source": [
    "batch_size = 8\n",
    "\n",
    "train_dl = DataLoader(train_ds, batch_size, shuffle = True)\n",
    "\n",
    "next(iter(train_dl))"
   ]
  },
  {
   "cell_type": "markdown",
   "id": "8b1989f5-5a00-495b-82c6-7eb958460868",
   "metadata": {
    "id": "8b1989f5-5a00-495b-82c6-7eb958460868"
   },
   "source": [
    "Creating Dataset and Dataloader for Validation data"
   ]
  },
  {
   "cell_type": "code",
   "execution_count": 152,
   "id": "b05107b4-e855-4d7d-ac37-0c4315f9cb14",
   "metadata": {
    "id": "b05107b4-e855-4d7d-ac37-0c4315f9cb14"
   },
   "outputs": [],
   "source": [
    "val_inputs = torch.from_numpy(X_val).float()\n",
    "val_targets = torch.from_numpy(y_val.reshape(-1, 1)).float()"
   ]
  },
  {
   "cell_type": "code",
   "execution_count": 153,
   "id": "03f67bea-eda8-40ec-a87f-df3106a861e2",
   "metadata": {
    "colab": {
     "base_uri": "https://localhost:8080/"
    },
    "id": "03f67bea-eda8-40ec-a87f-df3106a861e2",
    "outputId": "07288e7f-5577-49f6-99a4-e97ce6a9993f"
   },
   "outputs": [
    {
     "data": {
      "text/plain": [
       "(tensor([[-1.0113, -0.5000, -0.5809,  1.6095, -0.5478,  0.7000,  1.9999,  0.7517],\n",
       "         [ 0.9888, -0.5000, -0.5809, -0.6213, -0.5478, -0.5050,  1.1117, -0.0674],\n",
       "         [-1.0113,  2.0000, -0.5809, -0.6213,  1.8254, -0.8594,  0.1254, -0.8865],\n",
       "         [ 0.9888, -0.5000,  1.7213, -0.6213, -0.5478, -0.2923, -1.0827, -0.0674],\n",
       "         [ 0.9888, -0.5000, -0.5809,  1.6095, -0.5478,  1.4797, -0.8152, -0.8865]]),\n",
       " tensor([[0.1412],\n",
       "         [0.0577],\n",
       "         [0.5485],\n",
       "         [0.0651],\n",
       "         [0.1793]]))"
      ]
     },
     "execution_count": 153,
     "metadata": {},
     "output_type": "execute_result"
    }
   ],
   "source": [
    "val_ds = TensorDataset(val_inputs, val_targets)\n",
    "\n",
    "val_ds[:5]"
   ]
  },
  {
   "cell_type": "code",
   "execution_count": 154,
   "id": "fe773f76-1aa5-4e0d-8b36-1a40f99ca53f",
   "metadata": {
    "colab": {
     "base_uri": "https://localhost:8080/"
    },
    "id": "fe773f76-1aa5-4e0d-8b36-1a40f99ca53f",
    "outputId": "1253a089-fcf8-4996-f4ba-4e8df7bcd1db"
   },
   "outputs": [
    {
     "data": {
      "text/plain": [
       "[tensor([[-1.0113, -0.5000, -0.5809,  1.6095, -0.5478,  0.7000,  1.9999,  0.7517],\n",
       "         [ 0.9888, -0.5000, -0.5809, -0.6213, -0.5478, -0.5050,  1.1117, -0.0674],\n",
       "         [-1.0113,  2.0000, -0.5809, -0.6213,  1.8254, -0.8594,  0.1254, -0.8865],\n",
       "         [ 0.9888, -0.5000,  1.7213, -0.6213, -0.5478, -0.2923, -1.0827, -0.0674],\n",
       "         [ 0.9888, -0.5000, -0.5809,  1.6095, -0.5478,  1.4797, -0.8152, -0.8865],\n",
       "         [-1.0113, -0.5000, -0.5809,  1.6095, -0.5478,  0.7709, -0.4130,  1.5709],\n",
       "         [ 0.9888, -0.5000, -0.5809, -0.6213, -0.5478, -0.8594, -1.9510,  1.5709],\n",
       "         [-1.0113, -0.5000, -0.5809, -0.6213,  1.8254, -0.4341, -2.0183, -0.0674]]),\n",
       " tensor([[0.1412],\n",
       "         [0.0577],\n",
       "         [0.5485],\n",
       "         [0.0651],\n",
       "         [0.1793],\n",
       "         [0.1559],\n",
       "         [0.0603],\n",
       "         [0.0593]])]"
      ]
     },
     "execution_count": 154,
     "metadata": {},
     "output_type": "execute_result"
    }
   ],
   "source": [
    "val_dl = DataLoader(val_ds, batch_size)\n",
    "\n",
    "next(iter(val_dl))"
   ]
  },
  {
   "cell_type": "markdown",
   "id": "349a036e-eeac-4df6-b985-c08707104614",
   "metadata": {
    "id": "349a036e-eeac-4df6-b985-c08707104614"
   },
   "source": [
    "The Training Loop:\n",
    "\n",
    "Gets a batch of training data from the DataLoader\n",
    "\n",
    "Zeros the optimizer’s gradients\n",
    "\n",
    "Performs an inference - that is, gets predictions from the model for an input batch\n",
    "\n",
    "Calculates the loss for that set of predictions vs. the labels on the dataset\n",
    "\n",
    "Calculates the backward gradients over the learning weights\n",
    "\n",
    "Tells the optimizer to perform one learning step - that is, adjust the model’s learning weights based on the observed gradients for this batch, according to the optimization algorithm we chose"
   ]
  },
  {
   "cell_type": "code",
   "execution_count": 155,
   "id": "aba1c770",
   "metadata": {
    "id": "aba1c770"
   },
   "outputs": [],
   "source": [
    "loss_stats = {\n",
    "    \"train\": [],\n",
    "    \"val\": []\n",
    "}\n",
    "\n",
    "num_epochs = 100"
   ]
  },
  {
   "cell_type": "code",
   "execution_count": 156,
   "id": "3b9101da",
   "metadata": {
    "colab": {
     "base_uri": "https://localhost:8080/"
    },
    "id": "3b9101da",
    "outputId": "4568326c-7493-4a41-9fcb-b16908cf271a"
   },
   "outputs": [
    {
     "name": "stdout",
     "output_type": "stream",
     "text": [
      "Using cpu device\n"
     ]
    }
   ],
   "source": [
    "device = (\n",
    "    \"cuda\"\n",
    "    if torch.cuda.is_available()\n",
    "    else \"mps\"\n",
    "    if torch.backends.mps.is_available()\n",
    "    else \"cpu\"\n",
    ")\n",
    "\n",
    "print(f\"Using {device} device\")"
   ]
  },
  {
   "cell_type": "code",
   "execution_count": 157,
   "id": "8c6e7b78",
   "metadata": {
    "colab": {
     "base_uri": "https://localhost:8080/"
    },
    "id": "8c6e7b78",
    "outputId": "89f7667b-f879-483b-955b-5c91d4e10b06"
   },
   "outputs": [
    {
     "name": "stdout",
     "output_type": "stream",
     "text": [
      "SimpleNeuralNet(\n",
      "  (linear1): Linear(in_features=8, out_features=1, bias=True)\n",
      ")\n"
     ]
    }
   ],
   "source": [
    "model = SimpleNeuralNet(num_features=8).to(device)\n",
    "\n",
    "print(model)"
   ]
  },
  {
   "cell_type": "code",
   "execution_count": 158,
   "id": "MqCLaCKdIQmr",
   "metadata": {
    "id": "MqCLaCKdIQmr"
   },
   "outputs": [],
   "source": [
    "optimizer = torch.optim.SGD(model.parameters(), lr = 1e-2)"
   ]
  },
  {
   "cell_type": "code",
   "execution_count": 159,
   "id": "df01412f-323a-483f-aad9-3c9efad7c7fd",
   "metadata": {
    "colab": {
     "base_uri": "https://localhost:8080/"
    },
    "id": "df01412f-323a-483f-aad9-3c9efad7c7fd",
    "outputId": "db2c776f-61f4-42b0-9a68-5b43e8d3ce85"
   },
   "outputs": [
    {
     "name": "stdout",
     "output_type": "stream",
     "text": [
      "Epoch 0: | Train Loss: 0.127 | Val Loss: 0.018\n",
      "Epoch 1: | Train Loss: 0.014 | Val Loss: 0.009\n",
      "Epoch 2: | Train Loss: 0.011 | Val Loss: 0.008\n",
      "Epoch 3: | Train Loss: 0.010 | Val Loss: 0.008\n",
      "Epoch 4: | Train Loss: 0.010 | Val Loss: 0.008\n",
      "Epoch 5: | Train Loss: 0.010 | Val Loss: 0.008\n",
      "Epoch 6: | Train Loss: 0.010 | Val Loss: 0.008\n",
      "Epoch 7: | Train Loss: 0.010 | Val Loss: 0.008\n",
      "Epoch 8: | Train Loss: 0.010 | Val Loss: 0.008\n",
      "Epoch 9: | Train Loss: 0.010 | Val Loss: 0.008\n",
      "Epoch 10: | Train Loss: 0.010 | Val Loss: 0.008\n",
      "Epoch 11: | Train Loss: 0.010 | Val Loss: 0.008\n",
      "Epoch 12: | Train Loss: 0.010 | Val Loss: 0.008\n",
      "Epoch 13: | Train Loss: 0.010 | Val Loss: 0.008\n",
      "Epoch 14: | Train Loss: 0.010 | Val Loss: 0.008\n",
      "Epoch 15: | Train Loss: 0.010 | Val Loss: 0.008\n",
      "Epoch 16: | Train Loss: 0.010 | Val Loss: 0.008\n",
      "Epoch 17: | Train Loss: 0.010 | Val Loss: 0.008\n",
      "Epoch 18: | Train Loss: 0.010 | Val Loss: 0.008\n",
      "Epoch 19: | Train Loss: 0.010 | Val Loss: 0.008\n",
      "Epoch 20: | Train Loss: 0.010 | Val Loss: 0.008\n",
      "Epoch 21: | Train Loss: 0.010 | Val Loss: 0.008\n",
      "Epoch 22: | Train Loss: 0.010 | Val Loss: 0.008\n",
      "Epoch 23: | Train Loss: 0.010 | Val Loss: 0.008\n",
      "Epoch 24: | Train Loss: 0.010 | Val Loss: 0.008\n",
      "Epoch 25: | Train Loss: 0.010 | Val Loss: 0.008\n",
      "Epoch 26: | Train Loss: 0.010 | Val Loss: 0.008\n",
      "Epoch 27: | Train Loss: 0.010 | Val Loss: 0.008\n",
      "Epoch 28: | Train Loss: 0.010 | Val Loss: 0.008\n",
      "Epoch 29: | Train Loss: 0.010 | Val Loss: 0.008\n",
      "Epoch 30: | Train Loss: 0.010 | Val Loss: 0.008\n",
      "Epoch 31: | Train Loss: 0.010 | Val Loss: 0.008\n",
      "Epoch 32: | Train Loss: 0.010 | Val Loss: 0.008\n",
      "Epoch 33: | Train Loss: 0.010 | Val Loss: 0.008\n",
      "Epoch 34: | Train Loss: 0.010 | Val Loss: 0.008\n",
      "Epoch 35: | Train Loss: 0.010 | Val Loss: 0.008\n",
      "Epoch 36: | Train Loss: 0.010 | Val Loss: 0.008\n",
      "Epoch 37: | Train Loss: 0.010 | Val Loss: 0.008\n",
      "Epoch 38: | Train Loss: 0.010 | Val Loss: 0.008\n",
      "Epoch 39: | Train Loss: 0.010 | Val Loss: 0.008\n",
      "Epoch 40: | Train Loss: 0.010 | Val Loss: 0.008\n",
      "Epoch 41: | Train Loss: 0.010 | Val Loss: 0.008\n",
      "Epoch 42: | Train Loss: 0.010 | Val Loss: 0.008\n",
      "Epoch 43: | Train Loss: 0.010 | Val Loss: 0.008\n",
      "Epoch 44: | Train Loss: 0.010 | Val Loss: 0.008\n",
      "Epoch 45: | Train Loss: 0.010 | Val Loss: 0.008\n",
      "Epoch 46: | Train Loss: 0.010 | Val Loss: 0.008\n",
      "Epoch 47: | Train Loss: 0.010 | Val Loss: 0.008\n",
      "Epoch 48: | Train Loss: 0.010 | Val Loss: 0.008\n",
      "Epoch 49: | Train Loss: 0.010 | Val Loss: 0.008\n",
      "Epoch 50: | Train Loss: 0.010 | Val Loss: 0.008\n",
      "Epoch 51: | Train Loss: 0.010 | Val Loss: 0.008\n",
      "Epoch 52: | Train Loss: 0.010 | Val Loss: 0.008\n",
      "Epoch 53: | Train Loss: 0.010 | Val Loss: 0.008\n",
      "Epoch 54: | Train Loss: 0.010 | Val Loss: 0.008\n",
      "Epoch 55: | Train Loss: 0.010 | Val Loss: 0.008\n",
      "Epoch 56: | Train Loss: 0.010 | Val Loss: 0.008\n",
      "Epoch 57: | Train Loss: 0.010 | Val Loss: 0.008\n",
      "Epoch 58: | Train Loss: 0.010 | Val Loss: 0.008\n",
      "Epoch 59: | Train Loss: 0.010 | Val Loss: 0.008\n",
      "Epoch 60: | Train Loss: 0.010 | Val Loss: 0.008\n",
      "Epoch 61: | Train Loss: 0.010 | Val Loss: 0.008\n",
      "Epoch 62: | Train Loss: 0.010 | Val Loss: 0.008\n",
      "Epoch 63: | Train Loss: 0.010 | Val Loss: 0.008\n",
      "Epoch 64: | Train Loss: 0.010 | Val Loss: 0.008\n",
      "Epoch 65: | Train Loss: 0.010 | Val Loss: 0.008\n",
      "Epoch 66: | Train Loss: 0.010 | Val Loss: 0.008\n",
      "Epoch 67: | Train Loss: 0.010 | Val Loss: 0.008\n",
      "Epoch 68: | Train Loss: 0.010 | Val Loss: 0.008\n",
      "Epoch 69: | Train Loss: 0.010 | Val Loss: 0.008\n",
      "Epoch 70: | Train Loss: 0.010 | Val Loss: 0.008\n",
      "Epoch 71: | Train Loss: 0.010 | Val Loss: 0.008\n",
      "Epoch 72: | Train Loss: 0.010 | Val Loss: 0.008\n",
      "Epoch 73: | Train Loss: 0.010 | Val Loss: 0.008\n",
      "Epoch 74: | Train Loss: 0.010 | Val Loss: 0.008\n",
      "Epoch 75: | Train Loss: 0.010 | Val Loss: 0.008\n",
      "Epoch 76: | Train Loss: 0.010 | Val Loss: 0.008\n",
      "Epoch 77: | Train Loss: 0.010 | Val Loss: 0.008\n",
      "Epoch 78: | Train Loss: 0.010 | Val Loss: 0.008\n",
      "Epoch 79: | Train Loss: 0.010 | Val Loss: 0.008\n",
      "Epoch 80: | Train Loss: 0.010 | Val Loss: 0.008\n",
      "Epoch 81: | Train Loss: 0.010 | Val Loss: 0.008\n",
      "Epoch 82: | Train Loss: 0.010 | Val Loss: 0.008\n",
      "Epoch 83: | Train Loss: 0.010 | Val Loss: 0.008\n",
      "Epoch 84: | Train Loss: 0.010 | Val Loss: 0.008\n",
      "Epoch 85: | Train Loss: 0.010 | Val Loss: 0.008\n",
      "Epoch 86: | Train Loss: 0.010 | Val Loss: 0.008\n",
      "Epoch 87: | Train Loss: 0.010 | Val Loss: 0.008\n",
      "Epoch 88: | Train Loss: 0.010 | Val Loss: 0.008\n",
      "Epoch 89: | Train Loss: 0.010 | Val Loss: 0.008\n",
      "Epoch 90: | Train Loss: 0.010 | Val Loss: 0.008\n",
      "Epoch 91: | Train Loss: 0.010 | Val Loss: 0.008\n",
      "Epoch 92: | Train Loss: 0.010 | Val Loss: 0.008\n",
      "Epoch 93: | Train Loss: 0.010 | Val Loss: 0.008\n",
      "Epoch 94: | Train Loss: 0.010 | Val Loss: 0.008\n",
      "Epoch 95: | Train Loss: 0.010 | Val Loss: 0.008\n",
      "Epoch 96: | Train Loss: 0.010 | Val Loss: 0.008\n",
      "Epoch 97: | Train Loss: 0.010 | Val Loss: 0.008\n",
      "Epoch 98: | Train Loss: 0.010 | Val Loss: 0.008\n",
      "Epoch 99: | Train Loss: 0.010 | Val Loss: 0.008\n"
     ]
    }
   ],
   "source": [
    "for epoch in range(num_epochs):\n",
    "    # TRAINING\n",
    "    train_epoch_loss = 0\n",
    "\n",
    "    model.train()\n",
    "\n",
    "    for X_train_batch, y_train_batch in train_dl:\n",
    "\n",
    "        optimizer.zero_grad()\n",
    "\n",
    "        # Move data to the same device as the model\n",
    "        X_train_batch, y_train_batch = \\\n",
    "            X_train_batch.to(device), y_train_batch.to(device)\n",
    "\n",
    "        # Generate predictions and compute loss\n",
    "        preds = model(X_train_batch)\n",
    "\n",
    "        train_loss = loss_fn(preds, y_train_batch)\n",
    "\n",
    "        # Perform gradient descent\n",
    "        train_loss.backward()\n",
    "\n",
    "        optimizer.step()\n",
    "\n",
    "        train_epoch_loss += train_loss.item()\n",
    "\n",
    "    # VALIDATION\n",
    "    with torch.no_grad():\n",
    "\n",
    "        val_epoch_loss = 0\n",
    "\n",
    "        model.eval()\n",
    "\n",
    "        for X_val_batch, y_val_batch in val_dl:\n",
    "\n",
    "            X_val_batch, y_val_batch = \\\n",
    "                X_val_batch.to(device), y_val_batch.to(device)\n",
    "\n",
    "            y_val_pred = model(X_val_batch)\n",
    "\n",
    "            val_loss = loss_fn(y_val_pred, y_val_batch)\n",
    "\n",
    "            val_epoch_loss += val_loss.item()\n",
    "\n",
    "    train_loss = train_epoch_loss / len(train_dl)\n",
    "    val_loss = val_epoch_loss / len(val_dl)\n",
    "\n",
    "    loss_stats[\"train\"].append(train_loss)\n",
    "    loss_stats[\"val\"].append(val_loss)\n",
    "\n",
    "    print(f'Epoch {epoch+0:01}: | Train Loss: {train_loss:.3f} | Val Loss: {val_loss:.3f}')"
   ]
  },
  {
   "cell_type": "code",
   "execution_count": 160,
   "id": "4bd033ab",
   "metadata": {
    "colab": {
     "base_uri": "https://localhost:8080/",
     "height": 206
    },
    "id": "4bd033ab",
    "outputId": "c2eb4b92-366c-4774-f7c8-4b22d269c046"
   },
   "outputs": [
    {
     "data": {
      "text/html": [
       "<div>\n",
       "<style scoped>\n",
       "    .dataframe tbody tr th:only-of-type {\n",
       "        vertical-align: middle;\n",
       "    }\n",
       "\n",
       "    .dataframe tbody tr th {\n",
       "        vertical-align: top;\n",
       "    }\n",
       "\n",
       "    .dataframe thead th {\n",
       "        text-align: right;\n",
       "    }\n",
       "</style>\n",
       "<table border=\"1\" class=\"dataframe\">\n",
       "  <thead>\n",
       "    <tr style=\"text-align: right;\">\n",
       "      <th></th>\n",
       "      <th>epochs</th>\n",
       "      <th>variable</th>\n",
       "      <th>value</th>\n",
       "    </tr>\n",
       "  </thead>\n",
       "  <tbody>\n",
       "    <tr>\n",
       "      <th>0</th>\n",
       "      <td>0</td>\n",
       "      <td>train</td>\n",
       "      <td>0.126675</td>\n",
       "    </tr>\n",
       "    <tr>\n",
       "      <th>1</th>\n",
       "      <td>1</td>\n",
       "      <td>train</td>\n",
       "      <td>0.013595</td>\n",
       "    </tr>\n",
       "    <tr>\n",
       "      <th>2</th>\n",
       "      <td>2</td>\n",
       "      <td>train</td>\n",
       "      <td>0.010803</td>\n",
       "    </tr>\n",
       "    <tr>\n",
       "      <th>3</th>\n",
       "      <td>3</td>\n",
       "      <td>train</td>\n",
       "      <td>0.010365</td>\n",
       "    </tr>\n",
       "    <tr>\n",
       "      <th>4</th>\n",
       "      <td>4</td>\n",
       "      <td>train</td>\n",
       "      <td>0.010245</td>\n",
       "    </tr>\n",
       "  </tbody>\n",
       "</table>\n",
       "</div>"
      ],
      "text/plain": [
       "   epochs variable     value\n",
       "0       0    train  0.126675\n",
       "1       1    train  0.013595\n",
       "2       2    train  0.010803\n",
       "3       3    train  0.010365\n",
       "4       4    train  0.010245"
      ]
     },
     "execution_count": 160,
     "metadata": {},
     "output_type": "execute_result"
    }
   ],
   "source": [
    "train_val_loss_df = pd.DataFrame.from_dict(loss_stats). \\\n",
    "    reset_index().melt(id_vars = [\"index\"]). \\\n",
    "    rename(columns = {\"index\": \"epochs\"})\n",
    "\n",
    "train_val_loss_df.head()"
   ]
  },
  {
   "cell_type": "code",
   "execution_count": 161,
   "id": "2efa8ae0",
   "metadata": {
    "colab": {
     "base_uri": "https://localhost:8080/",
     "height": 206
    },
    "id": "2efa8ae0",
    "outputId": "56e3b90f-1cef-4201-f2c0-76c2749129bb"
   },
   "outputs": [
    {
     "data": {
      "text/html": [
       "<div>\n",
       "<style scoped>\n",
       "    .dataframe tbody tr th:only-of-type {\n",
       "        vertical-align: middle;\n",
       "    }\n",
       "\n",
       "    .dataframe tbody tr th {\n",
       "        vertical-align: top;\n",
       "    }\n",
       "\n",
       "    .dataframe thead th {\n",
       "        text-align: right;\n",
       "    }\n",
       "</style>\n",
       "<table border=\"1\" class=\"dataframe\">\n",
       "  <thead>\n",
       "    <tr style=\"text-align: right;\">\n",
       "      <th></th>\n",
       "      <th>epochs</th>\n",
       "      <th>variable</th>\n",
       "      <th>value</th>\n",
       "    </tr>\n",
       "  </thead>\n",
       "  <tbody>\n",
       "    <tr>\n",
       "      <th>195</th>\n",
       "      <td>95</td>\n",
       "      <td>val</td>\n",
       "      <td>0.008144</td>\n",
       "    </tr>\n",
       "    <tr>\n",
       "      <th>196</th>\n",
       "      <td>96</td>\n",
       "      <td>val</td>\n",
       "      <td>0.008249</td>\n",
       "    </tr>\n",
       "    <tr>\n",
       "      <th>197</th>\n",
       "      <td>97</td>\n",
       "      <td>val</td>\n",
       "      <td>0.008106</td>\n",
       "    </tr>\n",
       "    <tr>\n",
       "      <th>198</th>\n",
       "      <td>98</td>\n",
       "      <td>val</td>\n",
       "      <td>0.008198</td>\n",
       "    </tr>\n",
       "    <tr>\n",
       "      <th>199</th>\n",
       "      <td>99</td>\n",
       "      <td>val</td>\n",
       "      <td>0.008101</td>\n",
       "    </tr>\n",
       "  </tbody>\n",
       "</table>\n",
       "</div>"
      ],
      "text/plain": [
       "     epochs variable     value\n",
       "195      95      val  0.008144\n",
       "196      96      val  0.008249\n",
       "197      97      val  0.008106\n",
       "198      98      val  0.008198\n",
       "199      99      val  0.008101"
      ]
     },
     "execution_count": 161,
     "metadata": {},
     "output_type": "execute_result"
    }
   ],
   "source": [
    "train_val_loss_df.tail()"
   ]
  },
  {
   "cell_type": "code",
   "execution_count": 162,
   "id": "ff7705d2-cb8f-4fdc-80b9-db3cc3b91a9f",
   "metadata": {
    "colab": {
     "base_uri": "https://localhost:8080/",
     "height": 504
    },
    "id": "ff7705d2-cb8f-4fdc-80b9-db3cc3b91a9f",
    "outputId": "e4233c0b-52ef-4dc6-de95-55f8a86811eb"
   },
   "outputs": [
    {
     "data": {
      "text/plain": [
       "Text(0.5, 1.0, 'Train-Val Loss vs Epoch')"
      ]
     },
     "execution_count": 162,
     "metadata": {},
     "output_type": "execute_result"
    },
    {
     "data": {
      "image/png": "[encoded data removed]",
      "text/plain": [
       "<Figure size 1000x500 with 1 Axes>"
      ]
     },
     "metadata": {},
     "output_type": "display_data"
    }
   ],
   "source": [
    "plt.figure(figsize = (10, 5))\n",
    "\n",
    "sns.lineplot(data = train_val_loss_df,\n",
    "             x = \"epochs\", y = \"value\",\n",
    "             hue = \"variable\"\n",
    ").set_title(\"Train-Val Loss vs Epoch\")"
   ]
  },
  {
   "cell_type": "markdown",
   "id": "7651ceab-1d11-4958-badc-83b4f7c14fe3",
   "metadata": {
    "id": "7651ceab-1d11-4958-badc-83b4f7c14fe3"
   },
   "source": [
    "Ideally, We should make predictions on a separate test data by creating a Test dataloader. Here we are getting predictions on our validation data and checking the performance"
   ]
  },
  {
   "cell_type": "code",
   "execution_count": 163,
   "id": "e055a24c-36f5-4a6b-8050-a54d592a5abd",
   "metadata": {
    "id": "e055a24c-36f5-4a6b-8050-a54d592a5abd"
   },
   "outputs": [],
   "source": [
    "y_true = []\n",
    "y_pred = []\n",
    "\n",
    "with torch.no_grad():\n",
    "\n",
    "    model.eval()\n",
    "\n",
    "    for X_batch, y_batch in val_dl:\n",
    "        X_batch = X_batch.to(device)\n",
    "\n",
    "        y_test_pred = model(X_batch)\n",
    "\n",
    "        y_true.extend(y_batch)\n",
    "        y_pred.extend(y_test_pred)"
   ]
  },
  {
   "cell_type": "markdown",
   "id": "fb5f5a33-c330-4f60-b23c-015bc33d88a3",
   "metadata": {
    "id": "fb5f5a33-c330-4f60-b23c-015bc33d88a3"
   },
   "source": [
    "All  labels from validation dataloader are collected in the list and top 10 labels are shown"
   ]
  },
  {
   "cell_type": "code",
   "execution_count": 164,
   "id": "08afbebd-3fea-4f72-ab02-66c3b76cc256",
   "metadata": {
    "colab": {
     "base_uri": "https://localhost:8080/"
    },
    "id": "08afbebd-3fea-4f72-ab02-66c3b76cc256",
    "outputId": "ea217886-46c4-4d27-fc22-e426c4bdd50f"
   },
   "outputs": [
    {
     "data": {
      "text/plain": [
       "[tensor([0.1412]),\n",
       " tensor([0.0577]),\n",
       " tensor([0.5485]),\n",
       " tensor([0.0651]),\n",
       " tensor([0.1793]),\n",
       " tensor([0.1559]),\n",
       " tensor([0.0603]),\n",
       " tensor([0.0593]),\n",
       " tensor([0.0090]),\n",
       " tensor([0.1340])]"
      ]
     },
     "execution_count": 164,
     "metadata": {},
     "output_type": "execute_result"
    }
   ],
   "source": [
    "y_true[:10]"
   ]
  },
  {
   "cell_type": "markdown",
   "id": "3b984c32-f09d-4356-883c-bddd06129385",
   "metadata": {
    "id": "3b984c32-f09d-4356-883c-bddd06129385"
   },
   "source": [
    "Stacking all labels for calculating performance"
   ]
  },
  {
   "cell_type": "code",
   "execution_count": 165,
   "id": "dbd5f857-a92f-4ec4-a020-ee690e234be9",
   "metadata": {
    "colab": {
     "base_uri": "https://localhost:8080/"
    },
    "id": "dbd5f857-a92f-4ec4-a020-ee690e234be9",
    "outputId": "3459c3ed-7d47-4511-cb10-0c92d473df9a"
   },
   "outputs": [
    {
     "data": {
      "text/plain": [
       "tensor([[0.1412],\n",
       "        [0.0577],\n",
       "        [0.5485],\n",
       "        [0.0651],\n",
       "        [0.1793],\n",
       "        [0.1559],\n",
       "        [0.0603],\n",
       "        [0.0593],\n",
       "        [0.0090],\n",
       "        [0.1340]])"
      ]
     },
     "execution_count": 165,
     "metadata": {},
     "output_type": "execute_result"
    }
   ],
   "source": [
    "y_true_stacked = torch.stack((y_true))\n",
    "\n",
    "y_true_stacked[:10]"
   ]
  },
  {
   "cell_type": "markdown",
   "id": "69cd6a6e-49d4-44ff-a617-61eed0f05221",
   "metadata": {
    "id": "69cd6a6e-49d4-44ff-a617-61eed0f05221"
   },
   "source": [
    "All predictions are stacked too"
   ]
  },
  {
   "cell_type": "code",
   "execution_count": 166,
   "id": "7bedbc78-3c95-4a2e-beea-4d1146f8a4d8",
   "metadata": {
    "colab": {
     "base_uri": "https://localhost:8080/"
    },
    "id": "7bedbc78-3c95-4a2e-beea-4d1146f8a4d8",
    "outputId": "d2b1bcc6-e92d-4777-d036-e5a41262fcee"
   },
   "outputs": [
    {
     "data": {
      "text/plain": [
       "tensor([[0.2213],\n",
       "        [0.1370],\n",
       "        [0.4397],\n",
       "        [0.0750],\n",
       "        [0.1668],\n",
       "        [0.1563],\n",
       "        [0.0335],\n",
       "        [0.0231],\n",
       "        [0.0515],\n",
       "        [0.1310]])"
      ]
     },
     "execution_count": 166,
     "metadata": {},
     "output_type": "execute_result"
    }
   ],
   "source": [
    "y_pred_stacked = torch.stack((y_pred))\n",
    "\n",
    "y_pred_stacked[:10]"
   ]
  },
  {
   "cell_type": "markdown",
   "id": "034cad68-703b-42e9-b022-054a3fc0ea31",
   "metadata": {
    "id": "034cad68-703b-42e9-b022-054a3fc0ea31"
   },
   "source": [
    "So the performance of simplest neural network is obtained which is around 80% R square."
   ]
  },
  {
   "cell_type": "code",
   "execution_count": 167,
   "id": "56de0a8f-c356-4e42-8be6-5750287be730",
   "metadata": {
    "colab": {
     "base_uri": "https://localhost:8080/"
    },
    "id": "56de0a8f-c356-4e42-8be6-5750287be730",
    "outputId": "514841cf-af23-40c4-91a8-bdac699dc857"
   },
   "outputs": [
    {
     "name": "stdout",
     "output_type": "stream",
     "text": [
      "Mean Squared Error : 0.008\n",
      "R^2 : 0.8\n"
     ]
    }
   ],
   "source": [
    "MSE = MeanSquaredError().to(device)\n",
    "r2score = R2Score().to(device)\n",
    "\n",
    "print(\"Mean Squared Error :\", round(MSE(y_pred_stacked.to(device), y_true_stacked.to(device)).item(), 3))\n",
    "\n",
    "print(\"R^2 :\", round(r2score(y_pred_stacked.to(device), y_true_stacked.to(device)).item(), 3))"
   ]
  },
  {
   "cell_type": "markdown",
   "id": "e5d6d503",
   "metadata": {
    "id": "e5d6d503"
   },
   "source": [
    "## TODO Recording:\n",
    "\n",
    "After that we train the model with the second neural network which has 1233 no. of parameters and performance seems to have increased by around 9 percent."
   ]
  },
  {
   "cell_type": "code",
   "execution_count": 46,
   "id": "7bb41293-1613-41a4-9aa1-3f0cb436fd9f",
   "metadata": {
    "id": "7bb41293-1613-41a4-9aa1-3f0cb436fd9f"
   },
   "outputs": [],
   "source": []
  },
  {
   "cell_type": "code",
   "execution_count": 46,
   "id": "3dd070e6-f7db-40fa-a255-0e024a818a7c",
   "metadata": {
    "id": "3dd070e6-f7db-40fa-a255-0e024a818a7c"
   },
   "outputs": [],
   "source": []
  },
  {
   "cell_type": "code",
   "execution_count": 46,
   "id": "f19fa60c-8e53-4619-acfc-9cb8b637a378",
   "metadata": {
    "id": "f19fa60c-8e53-4619-acfc-9cb8b637a378"
   },
   "outputs": [],
   "source": []
  },
  {
   "cell_type": "code",
   "execution_count": 46,
   "id": "5ff7b099",
   "metadata": {
    "id": "5ff7b099"
   },
   "outputs": [],
   "source": []
  },
  {
   "cell_type": "code",
   "execution_count": 46,
   "id": "faf19380",
   "metadata": {
    "id": "faf19380"
   },
   "outputs": [],
   "source": []
  },
  {
   "cell_type": "code",
   "execution_count": 46,
   "id": "2ce5b2d8",
   "metadata": {
    "id": "2ce5b2d8"
   },
   "outputs": [],
   "source": []
  },
  {
   "cell_type": "code",
   "execution_count": 46,
   "id": "1d441171",
   "metadata": {
    "id": "1d441171"
   },
   "outputs": [],
   "source": []
  },
  {
   "cell_type": "code",
   "execution_count": 46,
   "id": "8f9d76be",
   "metadata": {
    "id": "8f9d76be"
   },
   "outputs": [],
   "source": []
  },
  {
   "cell_type": "code",
   "execution_count": 46,
   "id": "4419960a",
   "metadata": {
    "id": "4419960a"
   },
   "outputs": [],
   "source": []
  },
  {
   "cell_type": "code",
   "execution_count": 46,
   "id": "2ffec63c",
   "metadata": {
    "id": "2ffec63c"
   },
   "outputs": [],
   "source": []
  },
  {
   "cell_type": "code",
   "execution_count": 46,
   "id": "aaf39f03",
   "metadata": {
    "id": "aaf39f03"
   },
   "outputs": [],
   "source": []
  },
  {
   "cell_type": "code",
   "execution_count": 46,
   "id": "a0cc8b35",
   "metadata": {
    "id": "a0cc8b35"
   },
   "outputs": [],
   "source": []
  },
  {
   "cell_type": "code",
   "execution_count": 46,
   "id": "b91dceec",
   "metadata": {
    "id": "b91dceec"
   },
   "outputs": [],
   "source": []
  },
  {
   "cell_type": "code",
   "execution_count": 46,
   "id": "07418d12",
   "metadata": {
    "id": "07418d12"
   },
   "outputs": [],
   "source": []
  }
 ],
 "metadata": {
  "accelerator": "GPU",
  "colab": {
   "gpuType": "T4",
   "provenance": []
  },
  "kernelspec": {
   "display_name": "torch-ssc",
   "language": "python",
   "name": "python3"
  },
  "language_info": {
   "codemirror_mode": {
    "name": "ipython",
    "version": 3
   },
   "file_extension": ".py",
   "mimetype": "text/x-python",
   "name": "python",
   "nbconvert_exporter": "python",
   "pygments_lexer": "ipython3",
   "version": "3.8.18"
  }
 },
 "nbformat": 4,
 "nbformat_minor": 5
}
